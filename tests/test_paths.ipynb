{
 "cells": [
  {
   "cell_type": "code",
   "execution_count": 28,
   "metadata": {},
   "outputs": [],
   "source": [
    "from pathlib import Path\n",
    "import posixpath\n",
    "import pandas as pd"
   ]
  },
  {
   "cell_type": "code",
   "execution_count": 29,
   "metadata": {},
   "outputs": [],
   "source": [
    "train_parent_path = '/media/maximos/9C33-6BBD/data/melos_singers/Rebetika_vowels/train'\n",
    "test_parent_path = '/media/maximos/9C33-6BBD/data/melos_singers/Rebetika_vowels/test'\n",
    "csv_path = '/media/maximos/9C33-6BBD/data/melos_singers/features/merged_df_PCA.csv'"
   ]
  },
  {
   "cell_type": "code",
   "execution_count": 30,
   "metadata": {},
   "outputs": [],
   "source": [
    "train_paths = list( Path(train_parent_path).glob('**/*.mp3') )\n",
    "test_paths = list( Path(test_parent_path).glob('**/*.mp3') )"
   ]
  },
  {
   "cell_type": "code",
   "execution_count": 31,
   "metadata": {},
   "outputs": [
    {
     "name": "stdout",
     "output_type": "stream",
     "text": [
      "bellou_a_2\n",
      "bellou_a_1\n"
     ]
    }
   ],
   "source": [
    "print(train_paths[0].stem.lower())\n",
    "print(test_paths[0].stem.lower())"
   ]
  },
  {
   "cell_type": "code",
   "execution_count": 32,
   "metadata": {},
   "outputs": [],
   "source": [
    "feats = pd.read_csv(csv_path, delimiter=',')"
   ]
  },
  {
   "cell_type": "code",
   "execution_count": 33,
   "metadata": {},
   "outputs": [
    {
     "data": {
      "text/html": [
       "<div>\n",
       "<style scoped>\n",
       "    .dataframe tbody tr th:only-of-type {\n",
       "        vertical-align: middle;\n",
       "    }\n",
       "\n",
       "    .dataframe tbody tr th {\n",
       "        vertical-align: top;\n",
       "    }\n",
       "\n",
       "    .dataframe thead th {\n",
       "        text-align: right;\n",
       "    }\n",
       "</style>\n",
       "<table border=\"1\" class=\"dataframe\">\n",
       "  <thead>\n",
       "    <tr style=\"text-align: right;\">\n",
       "      <th></th>\n",
       "      <th>names</th>\n",
       "      <th>Pitch</th>\n",
       "      <th>SpectralCentroid</th>\n",
       "      <th>SpectralSpread</th>\n",
       "      <th>SpectralSkewness</th>\n",
       "      <th>SpectralKurtosis</th>\n",
       "      <th>SpectralFlatness</th>\n",
       "      <th>SpectralCrest</th>\n",
       "      <th>SpectralSlope</th>\n",
       "      <th>SpectralDecrease</th>\n",
       "      <th>...</th>\n",
       "      <th>F1_Hz</th>\n",
       "      <th>F2_Hz</th>\n",
       "      <th>F3_HZ</th>\n",
       "      <th>F4_Hz</th>\n",
       "      <th>Rate</th>\n",
       "      <th>Depth</th>\n",
       "      <th>Regularity</th>\n",
       "      <th>x</th>\n",
       "      <th>y</th>\n",
       "      <th>z</th>\n",
       "    </tr>\n",
       "  </thead>\n",
       "  <tbody>\n",
       "    <tr>\n",
       "      <th>0</th>\n",
       "      <td>bellou_a_1</td>\n",
       "      <td>294.792756</td>\n",
       "      <td>1988.705488</td>\n",
       "      <td>1236.076582</td>\n",
       "      <td>0.667607</td>\n",
       "      <td>2.230896</td>\n",
       "      <td>6.130028e-05</td>\n",
       "      <td>0.166799</td>\n",
       "      <td>8.356768e-08</td>\n",
       "      <td>0.034523</td>\n",
       "      <td>...</td>\n",
       "      <td>965.355185</td>\n",
       "      <td>1566.595113</td>\n",
       "      <td>3081.040174</td>\n",
       "      <td>3536.460589</td>\n",
       "      <td>0.628707</td>\n",
       "      <td>0.031815</td>\n",
       "      <td>0.095775</td>\n",
       "      <td>9.317695</td>\n",
       "      <td>0.621495</td>\n",
       "      <td>-1.054224</td>\n",
       "    </tr>\n",
       "    <tr>\n",
       "      <th>1</th>\n",
       "      <td>bellou_a_2</td>\n",
       "      <td>224.575582</td>\n",
       "      <td>1191.358861</td>\n",
       "      <td>663.951795</td>\n",
       "      <td>1.619319</td>\n",
       "      <td>6.378916</td>\n",
       "      <td>1.482950e-09</td>\n",
       "      <td>0.309095</td>\n",
       "      <td>2.968422e-06</td>\n",
       "      <td>0.019057</td>\n",
       "      <td>...</td>\n",
       "      <td>899.487838</td>\n",
       "      <td>1495.686633</td>\n",
       "      <td>2559.188944</td>\n",
       "      <td>3348.608822</td>\n",
       "      <td>1.938681</td>\n",
       "      <td>0.015600</td>\n",
       "      <td>0.041192</td>\n",
       "      <td>2.236056</td>\n",
       "      <td>-6.705590</td>\n",
       "      <td>-4.355881</td>\n",
       "    </tr>\n",
       "    <tr>\n",
       "      <th>2</th>\n",
       "      <td>bellou_a_3</td>\n",
       "      <td>215.427334</td>\n",
       "      <td>1630.110589</td>\n",
       "      <td>1201.959572</td>\n",
       "      <td>1.233063</td>\n",
       "      <td>3.561876</td>\n",
       "      <td>3.840608e-04</td>\n",
       "      <td>0.198526</td>\n",
       "      <td>-8.364649e-07</td>\n",
       "      <td>0.028277</td>\n",
       "      <td>...</td>\n",
       "      <td>978.654497</td>\n",
       "      <td>1669.361870</td>\n",
       "      <td>3239.718778</td>\n",
       "      <td>4173.536668</td>\n",
       "      <td>3.915128</td>\n",
       "      <td>0.061797</td>\n",
       "      <td>0.434528</td>\n",
       "      <td>7.544067</td>\n",
       "      <td>-0.588950</td>\n",
       "      <td>-0.268951</td>\n",
       "    </tr>\n",
       "    <tr>\n",
       "      <th>3</th>\n",
       "      <td>bellou_a_4</td>\n",
       "      <td>310.702620</td>\n",
       "      <td>1215.894880</td>\n",
       "      <td>740.676596</td>\n",
       "      <td>1.352175</td>\n",
       "      <td>4.917070</td>\n",
       "      <td>1.353494e-03</td>\n",
       "      <td>0.247989</td>\n",
       "      <td>-1.853757e-06</td>\n",
       "      <td>0.043431</td>\n",
       "      <td>...</td>\n",
       "      <td>949.317310</td>\n",
       "      <td>1712.827614</td>\n",
       "      <td>2029.906806</td>\n",
       "      <td>3230.486712</td>\n",
       "      <td>8.998951</td>\n",
       "      <td>0.029717</td>\n",
       "      <td>0.463241</td>\n",
       "      <td>7.945791</td>\n",
       "      <td>-0.237960</td>\n",
       "      <td>-2.450706</td>\n",
       "    </tr>\n",
       "    <tr>\n",
       "      <th>4</th>\n",
       "      <td>bellou_a_5</td>\n",
       "      <td>326.715388</td>\n",
       "      <td>1111.645409</td>\n",
       "      <td>576.713488</td>\n",
       "      <td>1.669873</td>\n",
       "      <td>6.963033</td>\n",
       "      <td>4.287648e-09</td>\n",
       "      <td>0.394933</td>\n",
       "      <td>4.004495e-06</td>\n",
       "      <td>0.021064</td>\n",
       "      <td>...</td>\n",
       "      <td>966.616790</td>\n",
       "      <td>1598.766626</td>\n",
       "      <td>2945.418491</td>\n",
       "      <td>3379.549015</td>\n",
       "      <td>4.379635</td>\n",
       "      <td>0.035155</td>\n",
       "      <td>0.176779</td>\n",
       "      <td>8.613728</td>\n",
       "      <td>-1.355972</td>\n",
       "      <td>-2.128227</td>\n",
       "    </tr>\n",
       "  </tbody>\n",
       "</table>\n",
       "<p>5 rows × 34 columns</p>\n",
       "</div>"
      ],
      "text/plain": [
       "        names       Pitch  SpectralCentroid  SpectralSpread  SpectralSkewness  \\\n",
       "0  bellou_a_1  294.792756       1988.705488     1236.076582          0.667607   \n",
       "1  bellou_a_2  224.575582       1191.358861      663.951795          1.619319   \n",
       "2  bellou_a_3  215.427334       1630.110589     1201.959572          1.233063   \n",
       "3  bellou_a_4  310.702620       1215.894880      740.676596          1.352175   \n",
       "4  bellou_a_5  326.715388       1111.645409      576.713488          1.669873   \n",
       "\n",
       "   SpectralKurtosis  SpectralFlatness  SpectralCrest  SpectralSlope  \\\n",
       "0          2.230896      6.130028e-05       0.166799   8.356768e-08   \n",
       "1          6.378916      1.482950e-09       0.309095   2.968422e-06   \n",
       "2          3.561876      3.840608e-04       0.198526  -8.364649e-07   \n",
       "3          4.917070      1.353494e-03       0.247989  -1.853757e-06   \n",
       "4          6.963033      4.287648e-09       0.394933   4.004495e-06   \n",
       "\n",
       "   SpectralDecrease  ...       F1_Hz        F2_Hz        F3_HZ        F4_Hz  \\\n",
       "0          0.034523  ...  965.355185  1566.595113  3081.040174  3536.460589   \n",
       "1          0.019057  ...  899.487838  1495.686633  2559.188944  3348.608822   \n",
       "2          0.028277  ...  978.654497  1669.361870  3239.718778  4173.536668   \n",
       "3          0.043431  ...  949.317310  1712.827614  2029.906806  3230.486712   \n",
       "4          0.021064  ...  966.616790  1598.766626  2945.418491  3379.549015   \n",
       "\n",
       "       Rate     Depth  Regularity         x         y         z  \n",
       "0  0.628707  0.031815    0.095775  9.317695  0.621495 -1.054224  \n",
       "1  1.938681  0.015600    0.041192  2.236056 -6.705590 -4.355881  \n",
       "2  3.915128  0.061797    0.434528  7.544067 -0.588950 -0.268951  \n",
       "3  8.998951  0.029717    0.463241  7.945791 -0.237960 -2.450706  \n",
       "4  4.379635  0.035155    0.176779  8.613728 -1.355972 -2.128227  \n",
       "\n",
       "[5 rows x 34 columns]"
      ]
     },
     "execution_count": 33,
     "metadata": {},
     "output_type": "execute_result"
    }
   ],
   "source": [
    "feats.head()"
   ]
  },
  {
   "cell_type": "code",
   "execution_count": 35,
   "metadata": {},
   "outputs": [],
   "source": [
    "names = feats['names']"
   ]
  },
  {
   "cell_type": "code",
   "execution_count": 43,
   "metadata": {},
   "outputs": [
    {
     "name": "stdout",
     "output_type": "stream",
     "text": [
      "0          bellou_a_1\n",
      "1          bellou_a_2\n",
      "2          bellou_a_3\n",
      "3          bellou_a_4\n",
      "4          bellou_a_5\n",
      "            ...      \n",
      "380    tsaousakis_w_5\n",
      "381    tsaousakis_w_6\n",
      "382    tsaousakis_w_7\n",
      "383    tsaousakis_w_8\n",
      "384    tsaousakis_w_9\n",
      "Name: names, Length: 385, dtype: object\n"
     ]
    },
    {
     "data": {
      "text/plain": [
       "True"
      ]
     },
     "execution_count": 43,
     "metadata": {},
     "output_type": "execute_result"
    }
   ],
   "source": [
    "print(names)\n",
    "names.str.contains('bellou_a_2').any()"
   ]
  },
  {
   "cell_type": "code",
   "execution_count": 45,
   "metadata": {},
   "outputs": [
    {
     "name": "stdout",
     "output_type": "stream",
     "text": [
      "checking train\n",
      "tsaousakis_i_24 not found!\n",
      "checking test\n"
     ]
    }
   ],
   "source": [
    "# make sure that all audios in train and test can be found in the csv\n",
    "print('checking train')\n",
    "for t in train_paths:\n",
    "    if not names.str.contains( t.stem.lower() ).any():\n",
    "        print(t.stem.lower(), 'not found!')\n",
    "\n",
    "print('checking test')\n",
    "for t in test_paths:\n",
    "    if not names.str.contains( t.stem.lower() ).any():\n",
    "        print(t.stem.lower(), 'not found!')"
   ]
  }
 ],
 "metadata": {
  "kernelspec": {
   "display_name": "torchaudio",
   "language": "python",
   "name": "python3"
  },
  "language_info": {
   "codemirror_mode": {
    "name": "ipython",
    "version": 3
   },
   "file_extension": ".py",
   "mimetype": "text/x-python",
   "name": "python",
   "nbconvert_exporter": "python",
   "pygments_lexer": "ipython3",
   "version": "3.12.1"
  }
 },
 "nbformat": 4,
 "nbformat_minor": 2
}
