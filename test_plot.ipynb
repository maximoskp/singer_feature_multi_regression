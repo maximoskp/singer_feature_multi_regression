{
 "cells": [
  {
   "cell_type": "code",
   "execution_count": 1,
   "metadata": {},
   "outputs": [
    {
     "name": "stderr",
     "output_type": "stream",
     "text": [
      "/home/maximos/miniconda3/envs/torchaudio/lib/python3.12/site-packages/tqdm/auto.py:21: TqdmWarning: IProgress not found. Please update jupyter and ipywidgets. See https://ipywidgets.readthedocs.io/en/stable/user_install.html\n",
      "  from .autonotebook import tqdm as notebook_tqdm\n"
     ]
    }
   ],
   "source": [
    "from multitask_dataset import SingerMultiTaskDataset\n",
    "from torch.utils.data import DataLoader\n",
    "from torch.optim import Adam\n",
    "import torch\n",
    "from models import HuBERTMultiHead\n",
    "import pandas as pd\n",
    "from tqdm import tqdm\n",
    "import numpy as np\n",
    "import os\n",
    "import csv"
   ]
  },
  {
   "cell_type": "code",
   "execution_count": 2,
   "metadata": {},
   "outputs": [
    {
     "name": "stderr",
     "output_type": "stream",
     "text": [
      "You are using a model of type hubert to instantiate a model of type wav2vec2. This is not supported for all configurations of models and can yield errors.\n",
      "Some weights of Wav2Vec2Model were not initialized from the model checkpoint at facebook/hubert-base-ls960 and are newly initialized: ['encoder.pos_conv_embed.conv.parametrizations.weight.original0', 'encoder.pos_conv_embed.conv.parametrizations.weight.original1']\n",
      "You should probably TRAIN this model on a down-stream task to be able to use it for predictions and inference.\n"
     ]
    }
   ],
   "source": [
    "# data folders\n",
    "train_audio_folder = '/media/maindisk/maximos/data/melos_singers/Rebetika_vowels/train/'\n",
    "test_audio_folder = '/media/maindisk/maximos/data/melos_singers/Rebetika_vowels/test/'\n",
    "csv_path = '/media/maindisk/maximos/data/melos_singers/features/multitask_targets.csv'\n",
    "# train_audio_folder = '/media/maximos/9C33-6BBD/data/melos_singers/Rebetika_vowels/train/'\n",
    "# test_audio_folder = '/media/maximos/9C33-6BBD/data/melos_singers/Rebetika_vowels/test/'\n",
    "# csv_path = '/media/maximos/9C33-6BBD/data/melos_singers/features/multitask_targets.csv'\n",
    "\n",
    "batch_size = 32\n",
    "\n",
    "# load csv\n",
    "feats = pd.read_csv(csv_path, delimiter=',')\n",
    "# keep feature list which will become the tasks\n",
    "features_list = list(feats.columns)\n",
    "# delete unnecessary columns\n",
    "del(features_list[:2])\n",
    "\n",
    "# keep number of outputs per task\n",
    "task_labels_num_out = {}\n",
    "for i in range(1, len(features_list)-3, 1):\n",
    "    task_labels_num_out[features_list[i]] = 1\n",
    "# add singer identification\n",
    "task_labels_num_out['singer_id'] = feats['singer_id'].max()+1 # accounting for zero\n",
    "\n",
    "# initialize model\n",
    "model = HuBERTMultiHead(task_labels_num_out=task_labels_num_out)\n",
    "\n",
    "# make datasets\n",
    "training_data = SingerMultiTaskDataset(train_audio_folder, csv_path)\n",
    "testing_data = SingerMultiTaskDataset(test_audio_folder, csv_path)\n",
    "\n",
    "# make dataloaders\n",
    "train_loader = DataLoader(training_data, batch_size=batch_size, shuffle=True, collate_fn=model.collate_fn)\n",
    "test_loader = DataLoader(testing_data, batch_size=batch_size, shuffle=True, collate_fn=model.collate_fn)"
   ]
  },
  {
   "cell_type": "code",
   "execution_count": 3,
   "metadata": {},
   "outputs": [
    {
     "data": {
      "text/plain": [
       "<All keys matched successfully>"
      ]
     },
     "execution_count": 3,
     "metadata": {},
     "output_type": "execute_result"
    }
   ],
   "source": [
    "saved_model_path = '/media/maindisk/maximos/repos/singer_feature_multi_regression/saved_models/frozen_hubert/frozen_hubert.pt'\n",
    "model.load_state_dict(torch.load(saved_model_path), strict=False)"
   ]
  },
  {
   "cell_type": "code",
   "execution_count": 4,
   "metadata": {},
   "outputs": [],
   "source": [
    "color_values = {}\n",
    "hidden_states = []"
   ]
  },
  {
   "cell_type": "code",
   "execution_count": 4,
   "metadata": {},
   "outputs": [],
   "source": [
    "b = next(iter( train_loader ))"
   ]
  },
  {
   "cell_type": "code",
   "execution_count": 5,
   "metadata": {},
   "outputs": [],
   "source": [
    "y = model(\n",
    "    audio_normalized=b[0]['input_values'],\n",
    "    attention_mask=b[0]['attention_mask'],\n",
    "    labels=b[1],\n",
    "    output_attentions=False,\n",
    "    output_hidden_states=True,\n",
    "    return_dict=True\n",
    ")"
   ]
  },
  {
   "cell_type": "code",
   "execution_count": 7,
   "metadata": {},
   "outputs": [],
   "source": [
    "h = y.hidden_states['hubert']\n",
    "p = y.hidden_states['projectors']"
   ]
  },
  {
   "cell_type": "code",
   "execution_count": 8,
   "metadata": {},
   "outputs": [
    {
     "name": "stdout",
     "output_type": "stream",
     "text": [
      "{'Pitch': tensor([[ 0.1461, -0.1332, -0.1536,  ...,  0.2295, -0.9729, -0.0490],\n",
      "        [ 0.4711, -0.2525, -0.0563,  ...,  0.0878, -1.1061,  0.1672],\n",
      "        [ 0.4030, -0.1893, -0.0945,  ...,  0.1222, -1.0623,  0.0511],\n",
      "        ...,\n",
      "        [ 0.1855, -0.1314, -0.1508,  ...,  0.0902, -0.8808,  0.0263],\n",
      "        [ 0.0649, -0.1917, -0.0822,  ...,  0.1468, -1.1107,  0.2051],\n",
      "        [ 0.1228, -0.1660, -0.1002,  ...,  0.2990, -1.0007, -0.0511]],\n",
      "       device='cuda:0', grad_fn=<AddmmBackward0>), 'SpectralCentroid': tensor([[-0.0701,  0.3805, -0.2187,  ..., -0.4525,  0.2180, -0.2001],\n",
      "        [-0.1671,  0.2521, -0.2593,  ..., -0.2567, -0.0189,  0.1776],\n",
      "        [-0.3175,  0.3661, -0.2262,  ..., -0.4234,  0.0982,  0.0777],\n",
      "        ...,\n",
      "        [-0.2799,  0.3329, -0.2018,  ..., -0.4566,  0.2735, -0.3931],\n",
      "        [ 0.2436,  0.0240, -0.2795,  ..., -0.3254,  0.0358,  0.0024],\n",
      "        [-1.1975,  0.2478, -0.2033,  ..., -0.4872,  0.1541, -0.2933]],\n",
      "       device='cuda:0', grad_fn=<AddmmBackward0>), 'SpectralSpread': tensor([[-1.0025, -0.3285, -0.4085,  ..., -1.9528, -0.9494, -0.2279],\n",
      "        [-0.9152, -0.0506, -0.1736,  ..., -2.1206, -0.7856, -0.3992],\n",
      "        [-0.8794,  0.1677, -0.1940,  ..., -2.0952, -0.9828, -0.3550],\n",
      "        ...,\n",
      "        [-0.8838, -0.1370, -0.4982,  ..., -1.8657, -0.9498, -0.2268],\n",
      "        [-1.0491, -0.2142, -0.3023,  ..., -2.0770, -0.8447, -0.2627],\n",
      "        [-0.8607, -0.1305, -0.1052,  ..., -1.9159, -1.0680, -0.4286]],\n",
      "       device='cuda:0', grad_fn=<AddmmBackward0>), 'SpectralSkewness': tensor([[-0.2965,  0.1961, -0.1115,  ..., -1.5069, -0.3208, -0.8648],\n",
      "        [-0.1170, -0.6163, -0.1280,  ..., -1.7551, -0.2561, -0.0120],\n",
      "        [ 0.2106, -0.6580, -0.1077,  ..., -1.6562, -0.2178, -0.7351],\n",
      "        ...,\n",
      "        [-0.2755,  0.0291, -0.1152,  ..., -1.5047, -0.1552, -0.7489],\n",
      "        [ 0.1374, -0.0829, -0.1519,  ..., -1.8826, -0.1196, -0.3440],\n",
      "        [-0.1969,  0.5899, -0.1017,  ..., -1.2083, -0.3449,  0.4497]],\n",
      "       device='cuda:0', grad_fn=<AddmmBackward0>), 'SpectralKurtosis': tensor([[ 0.3191,  0.1904, -0.2959,  ...,  0.0320, -0.2944, -0.7297],\n",
      "        [ 0.4676,  0.3034, -0.3157,  ...,  0.0383, -0.4220, -0.8730],\n",
      "        [ 0.5037,  0.0317, -0.3077,  ...,  0.0341, -0.4874, -0.8081],\n",
      "        ...,\n",
      "        [ 0.4358,  0.2692, -0.2922,  ...,  0.0757, -0.2340, -0.7765],\n",
      "        [ 0.5514,  0.4061, -0.3286,  ...,  0.1675, -0.3756, -0.8757],\n",
      "        [-0.0973, -0.8789, -0.2750,  ..., -0.2007, -0.4727, -0.5529]],\n",
      "       device='cuda:0', grad_fn=<AddmmBackward0>), 'SpectralFlatness': tensor([[-0.2744,  0.5779, -1.4090,  ..., -1.7681, -0.2428,  0.1551],\n",
      "        [-0.2540,  0.5887, -1.4243,  ..., -2.0936, -0.4998, -0.0054],\n",
      "        [-0.2742,  0.2786, -1.4300,  ..., -1.6534, -0.4874, -0.0058],\n",
      "        ...,\n",
      "        [-0.2454,  0.5893, -1.4390,  ..., -1.5949, -0.2562,  0.2198],\n",
      "        [-0.2918,  0.5568, -1.2363,  ..., -2.0427, -0.4171,  0.0542],\n",
      "        [-0.1948,  0.2494, -1.4338,  ..., -0.5980, -0.7284, -0.0065]],\n",
      "       device='cuda:0', grad_fn=<AddmmBackward0>), 'SpectralCrest': tensor([[-1.1930, -0.6620, -0.3205,  ...,  0.0665,  0.1379, -1.1546],\n",
      "        [-1.3111, -0.5884, -0.5150,  ..., -0.1964,  0.5078, -1.4925],\n",
      "        [-1.3927, -0.6076, -0.5160,  ..., -0.1609,  0.2312, -1.3343],\n",
      "        ...,\n",
      "        [-1.1981, -0.6484, -0.2565,  ...,  0.0288,  0.1992, -1.1841],\n",
      "        [-1.1340, -0.7280, -0.3545,  ..., -0.0832, -0.0583, -1.3071],\n",
      "        [-1.3058, -0.4905, -0.3190,  ...,  0.0279,  0.3795, -1.4386]],\n",
      "       device='cuda:0', grad_fn=<AddmmBackward0>), 'SpectralSlope': tensor([[-0.3109, -0.2025, -0.1585,  ..., -0.8023,  0.3226, -0.5962],\n",
      "        [-0.2644, -0.0182, -0.2202,  ..., -0.8297, -0.0613, -0.7581],\n",
      "        [-0.2305, -0.0586, -0.2341,  ..., -0.7751,  0.0214, -0.6311],\n",
      "        ...,\n",
      "        [-0.2755, -0.3463, -0.1844,  ..., -0.9015,  0.1085, -0.6164],\n",
      "        [-0.3501, -0.1928, -0.1615,  ..., -0.9295,  0.2411, -0.7202],\n",
      "        [-0.3978,  0.3821, -0.2067,  ...,  0.3753, -0.0266, -0.5261]],\n",
      "       device='cuda:0', grad_fn=<AddmmBackward0>), 'SpectralDecrease': tensor([[-0.1641, -0.2809,  0.1407,  ..., -0.3729, -0.8628,  0.3518],\n",
      "        [ 0.0405, -0.3479,  0.0664,  ..., -0.3970, -0.7781,  0.0300],\n",
      "        [-0.1740, -0.3244,  0.1313,  ..., -0.4036, -0.7837,  0.2925],\n",
      "        ...,\n",
      "        [-0.2648, -0.2951,  0.1488,  ..., -0.3809, -0.8456,  0.4342],\n",
      "        [ 0.2555, -0.2976,  0.0493,  ..., -0.3637, -0.8201,  0.1538],\n",
      "        [ 0.0160, -0.3352,  0.0428,  ..., -0.4064, -0.8358,  0.2601]],\n",
      "       device='cuda:0', grad_fn=<AddmmBackward0>), 'SpectralRollOff': tensor([[-5.0864e-01, -1.7229e+00, -5.2724e-01,  ..., -7.6148e-01,\n",
      "          5.1811e-02, -4.8511e-01],\n",
      "        [ 4.0383e-02, -1.7575e+00, -5.5164e-01,  ..., -7.4562e-01,\n",
      "         -1.7900e-01, -5.0285e-01],\n",
      "        [-3.9719e-01, -1.8228e+00, -5.0606e-01,  ..., -7.5313e-01,\n",
      "         -3.8357e-01, -4.8212e-01],\n",
      "        ...,\n",
      "        [-7.0898e-01, -1.6731e+00, -5.1314e-01,  ..., -7.4680e-01,\n",
      "         -9.0627e-02, -4.9549e-01],\n",
      "        [-5.0294e-01, -1.7108e+00, -6.8791e-01,  ..., -7.1924e-01,\n",
      "         -9.3978e-04, -4.5315e-01],\n",
      "        [-3.6829e-01, -1.8302e+00, -4.6114e-01,  ..., -5.9790e-01,\n",
      "         -5.8938e-02, -6.0748e-01]], device='cuda:0', grad_fn=<AddmmBackward0>), 'SpectralVariation': tensor([[-0.4378, -0.2305,  0.0253,  ..., -0.8619, -0.1579,  0.0150],\n",
      "        [-0.0686, -0.2519,  0.2406,  ..., -0.4637, -0.0216,  0.5318],\n",
      "        [-0.7629, -0.3064,  0.0185,  ..., -0.6710, -0.1991,  0.0388],\n",
      "        ...,\n",
      "        [-0.9039, -0.2876, -0.0151,  ..., -0.9397, -0.1376, -0.1201],\n",
      "        [-0.0136, -0.2048, -0.0016,  ..., -0.4773, -0.1763,  0.2978],\n",
      "        [-0.4869, -0.3188, -0.0586,  ..., -1.0854, -0.2519, -0.0906]],\n",
      "       device='cuda:0', grad_fn=<AddmmBackward0>), 'SpectralFlux': tensor([[ 0.8554, -0.3956, -1.0384,  ..., -0.7639, -0.1512, -0.5110],\n",
      "        [ 0.1073, -0.2944, -1.0362,  ..., -0.7039,  0.3691, -0.4489],\n",
      "        [ 0.5636, -0.5366, -1.1544,  ..., -0.8238, -0.0389, -0.5019],\n",
      "        ...,\n",
      "        [ 0.9658, -0.5058, -1.1020,  ..., -0.7871, -0.3030, -0.5016],\n",
      "        [ 0.3226, -0.2202, -1.1965,  ..., -0.7074,  0.0508, -0.4487],\n",
      "        [ 0.5731, -0.3434, -0.7572,  ..., -0.7881, -0.5842, -0.4837]],\n",
      "       device='cuda:0', grad_fn=<AddmmBackward0>), 'HarmonicSpectralDeviation': tensor([[-0.7672, -1.5778, -0.2530,  ..., -0.3078,  0.1076,  0.9885],\n",
      "        [-0.7109, -1.6776, -0.3152,  ...,  0.1873, -0.0053,  0.7583],\n",
      "        [-0.7427, -1.7680, -0.4185,  ...,  0.6200, -0.1099,  0.7515],\n",
      "        ...,\n",
      "        [-0.7349, -1.4715, -0.2325,  ..., -0.1752,  0.0826,  0.9490],\n",
      "        [-0.7924, -1.3424, -0.2541,  ..., -0.3383,  0.0139,  0.8393],\n",
      "        [-0.6265, -1.7533, -0.4233,  ..., -0.2906,  0.0386,  0.8364]],\n",
      "       device='cuda:0', grad_fn=<AddmmBackward0>), 'Tristimulus_1': tensor([[-1.4520, -0.1144, -0.1349,  ..., -0.1132, -0.1582,  0.0882],\n",
      "        [-1.4434, -0.1186, -0.2231,  ..., -0.2448, -0.1802, -0.0822],\n",
      "        [-1.4775, -0.1406, -0.2579,  ...,  0.0342, -0.2161,  0.1113],\n",
      "        ...,\n",
      "        [-1.3669, -0.1324, -0.1488,  ..., -0.1484, -0.1783,  0.1557],\n",
      "        [-1.6408, -0.1793, -0.2598,  ..., -0.2030, -0.1760,  0.0934],\n",
      "        [-1.5316, -0.1236, -0.1915,  ..., -0.2952, -0.1779,  0.1513]],\n",
      "       device='cuda:0', grad_fn=<AddmmBackward0>), 'Tristimulus_2': tensor([[ 0.3699, -2.3653,  0.5220,  ...,  0.0974, -0.1628, -0.9816],\n",
      "        [-0.6902, -1.7284,  0.8757,  ...,  0.1549, -0.1662, -1.0220],\n",
      "        [ 0.8566, -2.1338,  0.6578,  ...,  0.1935, -0.1937, -0.8892],\n",
      "        ...,\n",
      "        [ 0.3290, -2.3490,  0.5524,  ..., -0.0213, -0.1517, -1.2098],\n",
      "        [-0.3332, -1.8692,  0.9263,  ...,  0.0556, -0.1805, -1.1874],\n",
      "        [-0.3578, -2.1357,  0.1440,  ...,  0.3220, -0.1058, -0.1576]],\n",
      "       device='cuda:0', grad_fn=<AddmmBackward0>), 'Tristimulus_3': tensor([[-0.1266,  0.3828, -0.1711,  ...,  0.0180, -0.1116, -0.9200],\n",
      "        [-0.1993, -0.1604, -0.2321,  ...,  0.2189, -0.0617, -1.1062],\n",
      "        [-0.2917,  0.3301, -0.2711,  ..., -0.0202, -0.0986, -0.9412],\n",
      "        ...,\n",
      "        [-0.2443,  0.3949, -0.2454,  ..., -0.1307, -0.1192, -0.8269],\n",
      "        [-0.3176, -0.2548, -0.2374,  ..., -0.1087, -0.1150, -1.1498],\n",
      "        [-0.2185,  0.5110, -0.2120,  ...,  0.1663, -0.0426, -0.8514]],\n",
      "       device='cuda:0', grad_fn=<AddmmBackward0>), 'HarmonicOddToEvenRatio': tensor([[-0.0595,  0.0290, -0.7836,  ..., -0.4837,  0.3709, -0.7957],\n",
      "        [-0.0232, -0.0276, -0.9017,  ..., -0.5141,  0.1679, -0.7149],\n",
      "        [ 0.0601,  0.0829, -0.7918,  ..., -0.4719,  0.2487, -0.6772],\n",
      "        ...,\n",
      "        [-0.0043,  0.1007, -0.7048,  ..., -0.4942,  0.5252, -0.7814],\n",
      "        [-0.0260, -0.0684, -0.9027,  ..., -0.4839,  0.2685, -0.8000],\n",
      "        [-0.0252,  0.0599, -1.0165,  ..., -0.4906,  0.5182, -0.6959]],\n",
      "       device='cuda:0', grad_fn=<AddmmBackward0>), 'Inharmonicity': tensor([[-0.1467,  0.0370, -2.0768,  ..., -0.8969, -0.0064, -0.4252],\n",
      "        [-0.1244, -0.1359, -1.9916,  ..., -0.8956,  0.2018, -0.6411],\n",
      "        [-0.1126,  0.0256, -2.0797,  ..., -1.0284,  0.0865, -0.5511],\n",
      "        ...,\n",
      "        [-0.1129, -0.1376, -2.1723,  ..., -0.9705, -0.0772, -0.3262],\n",
      "        [-0.0813,  0.0169, -1.8925,  ..., -0.9003,  0.1519, -0.6262],\n",
      "        [-0.2459,  0.0049, -2.1624,  ..., -0.8364,  0.1732, -0.5046]],\n",
      "       device='cuda:0', grad_fn=<AddmmBackward0>), 'HarmonicEnergy': tensor([[ 0.0505, -0.3375,  0.1182,  ..., -0.2789, -0.0772, -1.0409],\n",
      "        [-0.4072, -0.1980,  0.0876,  ..., -0.1850, -0.0272, -1.1114],\n",
      "        [ 0.9454, -0.2372,  0.0206,  ..., -0.2979, -0.0832, -1.0146],\n",
      "        ...,\n",
      "        [ 0.3767, -0.3567, -0.1016,  ..., -0.3273, -0.1140, -1.0076],\n",
      "        [-0.4053, -0.3307,  0.0861,  ..., -0.2377, -0.0212, -1.0266],\n",
      "        [ 0.7379, -0.3399, -0.2069,  ..., -0.2012, -0.1542, -1.2017]],\n",
      "       device='cuda:0', grad_fn=<AddmmBackward0>), 'NoiseEnergy': tensor([[-0.5292, -1.0360, -1.9302,  ...,  0.3654, -1.5727, -0.6576],\n",
      "        [-0.4218, -0.9162, -2.1223,  ...,  0.2862, -1.4336, -0.5158],\n",
      "        [-0.3362, -0.9065, -2.1786,  ..., -0.1037, -1.6133, -0.5779],\n",
      "        ...,\n",
      "        [-0.5074, -1.0803, -1.8948,  ...,  0.0071, -1.6664, -0.5884],\n",
      "        [-0.4973, -0.9104, -1.9679,  ...,  0.3549, -1.3389, -0.6399],\n",
      "        [-0.3366, -0.8779, -1.9934,  ...,  0.4065, -1.4635, -0.5882]],\n",
      "       device='cuda:0', grad_fn=<AddmmBackward0>), 'Noisiness': tensor([[-0.2547, -0.1798, -0.2348,  ..., -0.1196, -0.2219, -0.1572],\n",
      "        [ 0.1566, -0.2752, -0.3248,  ..., -0.1251, -0.0161, -0.1753],\n",
      "        [ 0.4028, -0.2743, -0.3242,  ..., -0.1572, -0.0980, -0.2033],\n",
      "        ...,\n",
      "        [-0.1563, -0.1987, -0.2533,  ..., -0.1714, -0.1958, -0.1936],\n",
      "        [-0.1391, -0.2005, -0.2485,  ..., -0.0912, -0.1004, -0.1966],\n",
      "        [ 0.0559, -0.3124, -0.2933,  ..., -0.0917,  0.3528, -0.2019]],\n",
      "       device='cuda:0', grad_fn=<AddmmBackward0>), 'HarmonicToNoiseEnergy': tensor([[-0.4221,  0.0544, -0.3098,  ..., -1.3148, -0.1392, -0.7215],\n",
      "        [ 0.2141,  0.1419, -0.3171,  ..., -1.5030,  0.1991, -0.5564],\n",
      "        [ 0.3228,  0.1615, -0.3609,  ..., -1.4209,  0.5316, -0.6349],\n",
      "        ...,\n",
      "        [-0.3835,  0.0787, -0.2360,  ..., -1.2642, -0.1444, -0.8322],\n",
      "        [-0.5629,  0.2306, -0.2729,  ..., -1.4675, -0.5508, -0.5107],\n",
      "        [-0.2022,  0.4961, -0.4030,  ..., -1.4728, -0.0888, -0.6604]],\n",
      "       device='cuda:0', grad_fn=<AddmmBackward0>), 'PartialsToNoiseEnergy': tensor([[ 0.9099, -1.1806, -1.1446,  ..., -1.0472, -0.2351, -0.4045],\n",
      "        [-0.5774, -1.1227, -1.2233,  ..., -1.0684, -0.0055, -0.1672],\n",
      "        [-0.2439, -1.1809, -1.2043,  ..., -0.9890,  0.0094, -0.1848],\n",
      "        ...,\n",
      "        [ 0.5594, -1.2079, -1.1458,  ..., -1.0307, -0.2697, -0.3868],\n",
      "        [ 0.9193, -1.1780, -1.1132,  ..., -1.0671, -0.0662, -0.2391],\n",
      "        [-1.0405, -1.2358, -1.2275,  ..., -1.0123, -0.0642, -0.3539]],\n",
      "       device='cuda:0', grad_fn=<AddmmBackward0>), 'F1_Hz': tensor([[ 0.3410, -0.3773,  0.0207,  ..., -0.3993,  0.2319, -0.0540],\n",
      "        [ 0.4476, -0.4361,  0.1564,  ..., -0.3521,  0.1891, -0.1903],\n",
      "        [ 0.6043, -0.3796,  0.2290,  ..., -0.5098,  0.2612, -0.0330],\n",
      "        ...,\n",
      "        [ 0.2736, -0.3219,  0.0088,  ..., -0.4173,  0.1203, -0.3658],\n",
      "        [ 0.3427, -0.4424,  0.0343,  ..., -0.3213,  0.0817, -0.2785],\n",
      "        [ 0.3079, -0.3322,  0.0566,  ..., -0.3876,  0.1841, -0.3575]],\n",
      "       device='cuda:0', grad_fn=<AddmmBackward0>), 'F2_Hz': tensor([[ 0.3555, -0.1265, -0.2151,  ...,  0.4411, -0.4766, -0.0900],\n",
      "        [-0.3862, -0.1945, -0.2389,  ...,  0.0373, -0.5767, -0.0744],\n",
      "        [-0.0013, -0.0679, -0.2105,  ...,  0.0964, -0.6045, -0.0715],\n",
      "        ...,\n",
      "        [ 0.5132, -0.1417, -0.1690,  ...,  0.5341, -0.4133, -0.1255],\n",
      "        [ 0.0149, -0.2311, -0.1313,  ...,  0.2870, -0.2643, -0.0908],\n",
      "        [-0.2053, -0.1570, -0.2714,  ..., -0.0975, -0.8123, -0.0458]],\n",
      "       device='cuda:0', grad_fn=<AddmmBackward0>), 'F3_HZ': tensor([[-0.0757, -0.1650,  0.0579,  ..., -0.2999, -0.0852, -0.0536],\n",
      "        [ 0.1336, -0.1867, -0.0381,  ..., -0.6490, -0.4442,  0.2128],\n",
      "        [ 0.0669, -0.1734,  0.1840,  ..., -0.2552,  0.1423,  0.0650],\n",
      "        ...,\n",
      "        [-0.0153, -0.1653,  0.1830,  ..., -0.6133, -0.2711, -0.1390],\n",
      "        [ 0.0505, -0.1076, -0.1906,  ..., -0.9387, -0.7619,  0.2834],\n",
      "        [-0.1062, -0.3854,  0.1601,  ...,  0.5299,  0.1997,  0.2234]],\n",
      "       device='cuda:0', grad_fn=<AddmmBackward0>), 'F4_Hz': tensor([[-0.1727,  0.1931,  0.1950,  ..., -0.4625, -0.2082, -0.6090],\n",
      "        [-0.2506,  0.0751,  0.1349,  ...,  0.1056, -0.2316, -0.7126],\n",
      "        [-0.1493,  0.0147, -0.0275,  ..., -0.4887, -0.2383, -0.6687],\n",
      "        ...,\n",
      "        [-0.1925,  0.0138,  0.1781,  ..., -0.4930, -0.2411, -0.6076],\n",
      "        [-0.2445,  0.4142,  0.3543,  ..., -0.8814, -0.2503, -0.7114],\n",
      "        [-0.1900,  0.3067,  0.1127,  ...,  0.4587, -0.1550, -0.6733]],\n",
      "       device='cuda:0', grad_fn=<AddmmBackward0>), 'singer_id': tensor([[-0.8073, -0.8288,  0.7143,  ...,  0.2511, -0.7047, -2.1080],\n",
      "        [-1.2588, -2.0983,  0.4260,  ...,  0.4874, -0.5003, -2.0481],\n",
      "        [-1.1387, -1.5794,  0.3858,  ...,  0.4687, -0.6844, -1.9022],\n",
      "        ...,\n",
      "        [-0.9364, -0.7383,  0.3278,  ...,  0.0914, -0.7427, -2.1338],\n",
      "        [-1.1709, -1.8225,  0.5801,  ...,  0.3899, -0.5424, -2.0583],\n",
      "        [-1.2659, -1.1812,  0.3851,  ...,  0.5074, -0.5116, -1.8545]],\n",
      "       device='cuda:0', grad_fn=<AddmmBackward0>)}\n"
     ]
    }
   ],
   "source": [
    "print(p)"
   ]
  },
  {
   "cell_type": "code",
   "execution_count": 5,
   "metadata": {},
   "outputs": [],
   "source": [
    "with torch.no_grad():\n",
    "    for b in train_loader:\n",
    "        y = model(\n",
    "            audio_normalized=b[0]['input_values'],\n",
    "            attention_mask=b[0]['attention_mask'],\n",
    "            labels=b[1],\n",
    "            output_attentions=False,\n",
    "            output_hidden_states=True,\n",
    "            return_dict=True\n",
    "        )\n",
    "        hidden_states.append( y.hidden_states['hubert'].cpu().mean(axis=1).numpy() )\n",
    "        for k in y.logits.keys():\n",
    "            color_values.setdefault(k, []).append( y.logits[k][0].cpu().numpy() )\n",
    "    for b in test_loader:\n",
    "        y = model(\n",
    "            audio_normalized=b[0]['input_values'],\n",
    "            attention_mask=b[0]['attention_mask'],\n",
    "            labels=b[1],\n",
    "            output_attentions=False,\n",
    "            output_hidden_states=True,\n",
    "            return_dict=True\n",
    "        )\n",
    "        hidden_states.append( y.hidden_states['hubert'].cpu().mean(axis=1).numpy() )\n",
    "        for k in y.logits.keys():\n",
    "            color_values.setdefault(k, []).append( y.logits[k][0].cpu().numpy() )"
   ]
  },
  {
   "cell_type": "code",
   "execution_count": 6,
   "metadata": {},
   "outputs": [],
   "source": [
    "hs_np = np.vstack(hidden_states)\n",
    "cv_np = {}\n",
    "for k in color_values.keys():\n",
    "    cv_np[k] = np.vstack( color_values[k] )"
   ]
  },
  {
   "cell_type": "code",
   "execution_count": 7,
   "metadata": {},
   "outputs": [
    {
     "name": "stdout",
     "output_type": "stream",
     "text": [
      "(385, 768)\n",
      "(385, 6)\n"
     ]
    }
   ],
   "source": [
    "print(hs_np.shape)\n",
    "print(cv_np['singer_id'].shape)"
   ]
  },
  {
   "cell_type": "code",
   "execution_count": 8,
   "metadata": {},
   "outputs": [],
   "source": [
    "from sklearn.manifold import TSNE"
   ]
  },
  {
   "cell_type": "code",
   "execution_count": 9,
   "metadata": {},
   "outputs": [],
   "source": [
    "X_embedded = TSNE(n_components=2, learning_rate='auto',\n",
    "            init='random', perplexity=3).fit_transform(hs_np)"
   ]
  },
  {
   "cell_type": "code",
   "execution_count": 10,
   "metadata": {},
   "outputs": [
    {
     "name": "stdout",
     "output_type": "stream",
     "text": [
      "(385, 2)\n"
     ]
    }
   ],
   "source": [
    "print(X_embedded.shape)"
   ]
  },
  {
   "cell_type": "code",
   "execution_count": 11,
   "metadata": {},
   "outputs": [],
   "source": [
    "import matplotlib.pyplot as plt"
   ]
  },
  {
   "cell_type": "code",
   "execution_count": 12,
   "metadata": {},
   "outputs": [],
   "source": [
    "color_keys = list(cv_np.keys())"
   ]
  },
  {
   "cell_type": "code",
   "execution_count": 13,
   "metadata": {},
   "outputs": [
    {
     "data": {
      "text/plain": [
       "Text(0.5, 1.0, 'F2_Hz')"
      ]
     },
     "execution_count": 13,
     "metadata": {},
     "output_type": "execute_result"
    },
    {
     "data": {
      "image/png": "[encoded data removed]",
      "text/plain": [
       "<Figure size 640x480 with 1 Axes>"
      ]
     },
     "metadata": {},
     "output_type": "display_data"
    }
   ],
   "source": [
    "col = color_keys[-4]\n",
    "plt.scatter( X_embedded[:,0], X_embedded[:,1], c=cv_np[col] )\n",
    "plt.title(col)"
   ]
  }
 ],
 "metadata": {
  "kernelspec": {
   "display_name": "torchaudio",
   "language": "python",
   "name": "python3"
  },
  "language_info": {
   "codemirror_mode": {
    "name": "ipython",
    "version": 3
   },
   "file_extension": ".py",
   "mimetype": "text/x-python",
   "name": "python",
   "nbconvert_exporter": "python",
   "pygments_lexer": "ipython3",
   "version": "3.12.2"
  }
 },
 "nbformat": 4,
 "nbformat_minor": 2
}
