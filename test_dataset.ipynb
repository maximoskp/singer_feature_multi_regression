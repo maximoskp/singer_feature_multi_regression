{
 "cells": [
  {
   "cell_type": "code",
   "execution_count": 1,
   "metadata": {},
   "outputs": [],
   "source": [
    "from multitask_dataset import SingerMultiTaskDataset\n",
    "from torch.utils.data import DataLoader\n",
    "from models import HuBERTMultiHead\n",
    "import pandas as pd"
   ]
  },
  {
   "cell_type": "code",
   "execution_count": 2,
   "metadata": {},
   "outputs": [],
   "source": [
    "train_audio_folder = '/media/maximos/9C33-6BBD/data/melos_singers/Rebetika_vowels/train/Bellou/'\n",
    "csv_path = '/media/maximos/9C33-6BBD/data/melos_singers/features/multitask_targets.csv'"
   ]
  },
  {
   "cell_type": "code",
   "execution_count": 3,
   "metadata": {},
   "outputs": [],
   "source": [
    "feats = pd.read_csv(csv_path, delimiter=',')\n",
    "features_list = list(feats.columns)"
   ]
  },
  {
   "cell_type": "code",
   "execution_count": 4,
   "metadata": {},
   "outputs": [],
   "source": [
    "task_labels_map = {}\n",
    "for i in range(1, len(features_list)-3, 1):\n",
    "    task_labels_map[features_list[i]] = 1\n",
    "# add singer identification\n",
    "task_labels_map['singer_id'] = feats['singer_id'].max()+1 # accounting for zero"
   ]
  },
  {
   "cell_type": "code",
   "execution_count": 5,
   "metadata": {},
   "outputs": [
    {
     "name": "stderr",
     "output_type": "stream",
     "text": [
      "You are using a model of type hubert to instantiate a model of type wav2vec2. This is not supported for all configurations of models and can yield errors.\n",
      "Some weights of Wav2Vec2Model were not initialized from the model checkpoint at facebook/hubert-base-ls960 and are newly initialized: ['encoder.pos_conv_embed.conv.parametrizations.weight.original0', 'encoder.pos_conv_embed.conv.parametrizations.weight.original1']\n",
      "You should probably TRAIN this model on a down-stream task to be able to use it for predictions and inference.\n"
     ]
    }
   ],
   "source": [
    "model = HuBERTMultiHead(task_labels_map=task_labels_map)"
   ]
  },
  {
   "cell_type": "code",
   "execution_count": 6,
   "metadata": {},
   "outputs": [],
   "source": [
    "training_data = SingerMultiTaskDataset(train_audio_folder, csv_path)"
   ]
  },
  {
   "cell_type": "code",
   "execution_count": 7,
   "metadata": {},
   "outputs": [
    {
     "name": "stdout",
     "output_type": "stream",
     "text": [
      "{'input_values': array([ 0.03695227,  0.00765143, -0.0463584 , ...,  0.0349304 ,\n",
      "       -0.04109538,  0.        ], dtype=float32), 'labels': {'Unnamed: 0': 0, 'names': 'bellou_a_1', 'singer_id': 0, 'Pitch': 294.792755848602, 'SpectralCentroid': 1988.70548799565, 'SpectralSpread': 1236.07658212378, 'SpectralSkewness': 0.667606950418554, 'SpectralKurtosis': 2.23089609708891, 'SpectralFlatness': 6.13002798571896e-05, 'SpectralCrest': 0.166798680989045, 'SpectralSlope': 8.35676790222799e-08, 'SpectralDecrease': 0.0345231147320676, 'SpectralRollOff': 3619.18975289899, 'SpectralVariation': 0.633051436428841, 'SpectralFlux': 0.0021260109600433, 'HarmonicSpectralDeviation': 0.0050759970417123, 'Tristimulus_1': 0.0668331273198761, 'Tristimulus_2': 0.375872580535276, 'Tristimulus_3': 0.545649719091416, 'HarmonicOddToEvenRatio': 1.55359376773475, 'Inharmonicity': 0.096271184919293, 'HarmonicEnergy': 0.0136912304680307, 'NoiseEnergy': 0.0129354341375336, 'Noisiness': 0.464518212827659, 'HarmonicToNoiseEnergy': 1.10189147689818, 'PartialsToNoiseEnergy': 1.15276830834486, 'F1_Hz': 965.355185, 'F2_Hz': 1566.595113, 'F3_HZ': 3081.040174, 'F4_Hz': 3536.460589, 'Rate': 0.628706661, 'Depth': 0.031815235, 'Regularity': 0.095774789}}\n"
     ]
    }
   ],
   "source": [
    "print(training_data[0])"
   ]
  },
  {
   "cell_type": "code",
   "execution_count": 8,
   "metadata": {},
   "outputs": [],
   "source": [
    "dataloader = DataLoader(training_data, batch_size=8, shuffle=True, collate_fn=model.collate_fn)"
   ]
  },
  {
   "cell_type": "code",
   "execution_count": 9,
   "metadata": {},
   "outputs": [
    {
     "name": "stdout",
     "output_type": "stream",
     "text": [
      "{'dataset': <multitask_dataset.SingerMultiTaskDataset object at 0x709849affcb0>, 'num_workers': 0, 'prefetch_factor': None, 'pin_memory': False, 'pin_memory_device': '', 'timeout': 0, 'worker_init_fn': None, '_DataLoader__multiprocessing_context': None, '_dataset_kind': 0, 'batch_size': 8, 'drop_last': False, 'sampler': <torch.utils.data.sampler.RandomSampler object at 0x7097cf206f60>, 'batch_sampler': <torch.utils.data.sampler.BatchSampler object at 0x7097cf096690>, 'generator': None, 'collate_fn': <bound method HuBERTMultiHead.collate_fn of HuBERTMultiHead(\n",
      "  (feature_extractor): Wav2Vec2FeatureEncoder(\n",
      "    (conv_layers): ModuleList(\n",
      "      (0): Wav2Vec2GroupNormConvLayer(\n",
      "        (conv): Conv1d(1, 512, kernel_size=(10,), stride=(5,), bias=False)\n",
      "        (activation): GELUActivation()\n",
      "        (layer_norm): GroupNorm(512, 512, eps=1e-05, affine=True)\n",
      "      )\n",
      "      (1-4): 4 x Wav2Vec2NoLayerNormConvLayer(\n",
      "        (conv): Conv1d(512, 512, kernel_size=(3,), stride=(2,), bias=False)\n",
      "        (activation): GELUActivation()\n",
      "      )\n",
      "      (5-6): 2 x Wav2Vec2NoLayerNormConvLayer(\n",
      "        (conv): Conv1d(512, 512, kernel_size=(2,), stride=(2,), bias=False)\n",
      "        (activation): GELUActivation()\n",
      "      )\n",
      "    )\n",
      "  )\n",
      "  (feature_projection): Wav2Vec2FeatureProjection(\n",
      "    (layer_norm): LayerNorm((512,), eps=1e-05, elementwise_affine=True)\n",
      "    (projection): Linear(in_features=512, out_features=768, bias=True)\n",
      "    (dropout): Dropout(p=0.0, inplace=False)\n",
      "  )\n",
      "  (encoder): Wav2Vec2Encoder(\n",
      "    (pos_conv_embed): Wav2Vec2PositionalConvEmbedding(\n",
      "      (conv): ParametrizedConv1d(\n",
      "        768, 768, kernel_size=(128,), stride=(1,), padding=(64,), groups=16\n",
      "        (parametrizations): ModuleDict(\n",
      "          (weight): ParametrizationList(\n",
      "            (0): _WeightNorm()\n",
      "          )\n",
      "        )\n",
      "      )\n",
      "      (padding): Wav2Vec2SamePadLayer()\n",
      "      (activation): GELUActivation()\n",
      "    )\n",
      "    (layer_norm): LayerNorm((768,), eps=1e-05, elementwise_affine=True)\n",
      "    (dropout): Dropout(p=0.1, inplace=False)\n",
      "    (layers): ModuleList(\n",
      "      (0-11): 12 x Wav2Vec2EncoderLayer(\n",
      "        (attention): Wav2Vec2Attention(\n",
      "          (k_proj): Linear(in_features=768, out_features=768, bias=True)\n",
      "          (v_proj): Linear(in_features=768, out_features=768, bias=True)\n",
      "          (q_proj): Linear(in_features=768, out_features=768, bias=True)\n",
      "          (out_proj): Linear(in_features=768, out_features=768, bias=True)\n",
      "        )\n",
      "        (dropout): Dropout(p=0.1, inplace=False)\n",
      "        (layer_norm): LayerNorm((768,), eps=1e-05, elementwise_affine=True)\n",
      "        (feed_forward): Wav2Vec2FeedForward(\n",
      "          (intermediate_dropout): Dropout(p=0.1, inplace=False)\n",
      "          (intermediate_dense): Linear(in_features=768, out_features=3072, bias=True)\n",
      "          (intermediate_act_fn): GELUActivation()\n",
      "          (output_dense): Linear(in_features=3072, out_features=768, bias=True)\n",
      "          (output_dropout): Dropout(p=0.1, inplace=False)\n",
      "        )\n",
      "        (final_layer_norm): LayerNorm((768,), eps=1e-05, elementwise_affine=True)\n",
      "      )\n",
      "    )\n",
      "  )\n",
      "  (hubert): Wav2Vec2Model(\n",
      "    (feature_extractor): Wav2Vec2FeatureEncoder(\n",
      "      (conv_layers): ModuleList(\n",
      "        (0): Wav2Vec2GroupNormConvLayer(\n",
      "          (conv): Conv1d(1, 512, kernel_size=(10,), stride=(5,), bias=False)\n",
      "          (activation): GELUActivation()\n",
      "          (layer_norm): GroupNorm(512, 512, eps=1e-05, affine=True)\n",
      "        )\n",
      "        (1-4): 4 x Wav2Vec2NoLayerNormConvLayer(\n",
      "          (conv): Conv1d(512, 512, kernel_size=(3,), stride=(2,), bias=False)\n",
      "          (activation): GELUActivation()\n",
      "        )\n",
      "        (5-6): 2 x Wav2Vec2NoLayerNormConvLayer(\n",
      "          (conv): Conv1d(512, 512, kernel_size=(2,), stride=(2,), bias=False)\n",
      "          (activation): GELUActivation()\n",
      "        )\n",
      "      )\n",
      "    )\n",
      "    (feature_projection): Wav2Vec2FeatureProjection(\n",
      "      (layer_norm): LayerNorm((512,), eps=1e-05, elementwise_affine=True)\n",
      "      (projection): Linear(in_features=512, out_features=768, bias=True)\n",
      "      (dropout): Dropout(p=0.1, inplace=False)\n",
      "    )\n",
      "    (encoder): Wav2Vec2Encoder(\n",
      "      (pos_conv_embed): Wav2Vec2PositionalConvEmbedding(\n",
      "        (conv): ParametrizedConv1d(\n",
      "          768, 768, kernel_size=(128,), stride=(1,), padding=(64,), groups=16\n",
      "          (parametrizations): ModuleDict(\n",
      "            (weight): ParametrizationList(\n",
      "              (0): _WeightNorm()\n",
      "            )\n",
      "          )\n",
      "        )\n",
      "        (padding): Wav2Vec2SamePadLayer()\n",
      "        (activation): GELUActivation()\n",
      "      )\n",
      "      (layer_norm): LayerNorm((768,), eps=1e-05, elementwise_affine=True)\n",
      "      (dropout): Dropout(p=0.1, inplace=False)\n",
      "      (layers): ModuleList(\n",
      "        (0-11): 12 x Wav2Vec2EncoderLayer(\n",
      "          (attention): Wav2Vec2Attention(\n",
      "            (k_proj): Linear(in_features=768, out_features=768, bias=True)\n",
      "            (v_proj): Linear(in_features=768, out_features=768, bias=True)\n",
      "            (q_proj): Linear(in_features=768, out_features=768, bias=True)\n",
      "            (out_proj): Linear(in_features=768, out_features=768, bias=True)\n",
      "          )\n",
      "          (dropout): Dropout(p=0.1, inplace=False)\n",
      "          (layer_norm): LayerNorm((768,), eps=1e-05, elementwise_affine=True)\n",
      "          (feed_forward): Wav2Vec2FeedForward(\n",
      "            (intermediate_dropout): Dropout(p=0.1, inplace=False)\n",
      "            (intermediate_dense): Linear(in_features=768, out_features=3072, bias=True)\n",
      "            (intermediate_act_fn): GELUActivation()\n",
      "            (output_dense): Linear(in_features=3072, out_features=768, bias=True)\n",
      "            (output_dropout): Dropout(p=0.1, inplace=False)\n",
      "          )\n",
      "          (final_layer_norm): LayerNorm((768,), eps=1e-05, elementwise_affine=True)\n",
      "        )\n",
      "      )\n",
      "    )\n",
      "  )\n",
      ")>, 'persistent_workers': False, '_DataLoader__initialized': True, '_IterableDataset_len_called': None, '_iterator': None}\n"
     ]
    }
   ],
   "source": [
    "print(dataloader.__dict__)"
   ]
  },
  {
   "cell_type": "code",
   "execution_count": 10,
   "metadata": {},
   "outputs": [
    {
     "name": "stdout",
     "output_type": "stream",
     "text": [
      "entered collate_fn\n",
      "input_values: [array([-0.00360867, -0.0270893 , -0.0493161 , ...,  0.13624442,\n",
      "        0.11737493,  0.10249846], dtype=float32), array([-0.04315714, -0.07043701, -0.05468801, ..., -0.00907535,\n",
      "       -0.01197426, -0.01709766], dtype=float32), array([-0.02886814, -0.01050005,  0.04926375, ...,  0.0175477 ,\n",
      "       -0.08871207,  0.        ], dtype=float32), array([-0.08827513, -0.15996683, -0.00464054, ..., -0.15268797,\n",
      "       -0.04472587,  0.        ], dtype=float32), array([ 0.03695227,  0.00765143, -0.0463584 , ...,  0.0349304 ,\n",
      "       -0.04109538,  0.        ], dtype=float32), array([-0.13698706, -0.21405686, -0.22277153, ..., -0.026218  ,\n",
      "       -0.02255014,  0.        ], dtype=float32), array([-0.05828063, -0.11266457, -0.11046638, ..., -0.03612334,\n",
      "       -0.07856341,  0.        ], dtype=float32), array([0.05924646, 0.11763971, 0.11149202, ..., 0.08310056, 0.17159376,\n",
      "       0.21682099], dtype=float32)]\n",
      "labels: [{'Unnamed: 0': 0, 'names': 'bellou_a_1', 'singer_id': 0, 'Pitch': 294.792755848602, 'SpectralCentroid': 1988.70548799565, 'SpectralSpread': 1236.07658212378, 'SpectralSkewness': 0.667606950418554, 'SpectralKurtosis': 2.23089609708891, 'SpectralFlatness': 6.13002798571896e-05, 'SpectralCrest': 0.166798680989045, 'SpectralSlope': 8.35676790222799e-08, 'SpectralDecrease': 0.0345231147320676, 'SpectralRollOff': 3619.18975289899, 'SpectralVariation': 0.633051436428841, 'SpectralFlux': 0.0021260109600433, 'HarmonicSpectralDeviation': 0.0050759970417123, 'Tristimulus_1': 0.0668331273198761, 'Tristimulus_2': 0.375872580535276, 'Tristimulus_3': 0.545649719091416, 'HarmonicOddToEvenRatio': 1.55359376773475, 'Inharmonicity': 0.096271184919293, 'HarmonicEnergy': 0.0136912304680307, 'NoiseEnergy': 0.0129354341375336, 'Noisiness': 0.464518212827659, 'HarmonicToNoiseEnergy': 1.10189147689818, 'PartialsToNoiseEnergy': 1.15276830834486, 'F1_Hz': 965.355185, 'F2_Hz': 1566.595113, 'F3_HZ': 3081.040174, 'F4_Hz': 3536.460589, 'Rate': 0.628706661, 'Depth': 0.031815235, 'Regularity': 0.095774789}, {'Unnamed: 0': 0, 'names': 'bellou_a_1', 'singer_id': 0, 'Pitch': 294.792755848602, 'SpectralCentroid': 1988.70548799565, 'SpectralSpread': 1236.07658212378, 'SpectralSkewness': 0.667606950418554, 'SpectralKurtosis': 2.23089609708891, 'SpectralFlatness': 6.13002798571896e-05, 'SpectralCrest': 0.166798680989045, 'SpectralSlope': 8.35676790222799e-08, 'SpectralDecrease': 0.0345231147320676, 'SpectralRollOff': 3619.18975289899, 'SpectralVariation': 0.633051436428841, 'SpectralFlux': 0.0021260109600433, 'HarmonicSpectralDeviation': 0.0050759970417123, 'Tristimulus_1': 0.0668331273198761, 'Tristimulus_2': 0.375872580535276, 'Tristimulus_3': 0.545649719091416, 'HarmonicOddToEvenRatio': 1.55359376773475, 'Inharmonicity': 0.096271184919293, 'HarmonicEnergy': 0.0136912304680307, 'NoiseEnergy': 0.0129354341375336, 'Noisiness': 0.464518212827659, 'HarmonicToNoiseEnergy': 1.10189147689818, 'PartialsToNoiseEnergy': 1.15276830834486, 'F1_Hz': 965.355185, 'F2_Hz': 1566.595113, 'F3_HZ': 3081.040174, 'F4_Hz': 3536.460589, 'Rate': 0.628706661, 'Depth': 0.031815235, 'Regularity': 0.095774789}, {'Unnamed: 0': 0, 'names': 'bellou_a_1', 'singer_id': 0, 'Pitch': 294.792755848602, 'SpectralCentroid': 1988.70548799565, 'SpectralSpread': 1236.07658212378, 'SpectralSkewness': 0.667606950418554, 'SpectralKurtosis': 2.23089609708891, 'SpectralFlatness': 6.13002798571896e-05, 'SpectralCrest': 0.166798680989045, 'SpectralSlope': 8.35676790222799e-08, 'SpectralDecrease': 0.0345231147320676, 'SpectralRollOff': 3619.18975289899, 'SpectralVariation': 0.633051436428841, 'SpectralFlux': 0.0021260109600433, 'HarmonicSpectralDeviation': 0.0050759970417123, 'Tristimulus_1': 0.0668331273198761, 'Tristimulus_2': 0.375872580535276, 'Tristimulus_3': 0.545649719091416, 'HarmonicOddToEvenRatio': 1.55359376773475, 'Inharmonicity': 0.096271184919293, 'HarmonicEnergy': 0.0136912304680307, 'NoiseEnergy': 0.0129354341375336, 'Noisiness': 0.464518212827659, 'HarmonicToNoiseEnergy': 1.10189147689818, 'PartialsToNoiseEnergy': 1.15276830834486, 'F1_Hz': 965.355185, 'F2_Hz': 1566.595113, 'F3_HZ': 3081.040174, 'F4_Hz': 3536.460589, 'Rate': 0.628706661, 'Depth': 0.031815235, 'Regularity': 0.095774789}, {'Unnamed: 0': 0, 'names': 'bellou_a_1', 'singer_id': 0, 'Pitch': 294.792755848602, 'SpectralCentroid': 1988.70548799565, 'SpectralSpread': 1236.07658212378, 'SpectralSkewness': 0.667606950418554, 'SpectralKurtosis': 2.23089609708891, 'SpectralFlatness': 6.13002798571896e-05, 'SpectralCrest': 0.166798680989045, 'SpectralSlope': 8.35676790222799e-08, 'SpectralDecrease': 0.0345231147320676, 'SpectralRollOff': 3619.18975289899, 'SpectralVariation': 0.633051436428841, 'SpectralFlux': 0.0021260109600433, 'HarmonicSpectralDeviation': 0.0050759970417123, 'Tristimulus_1': 0.0668331273198761, 'Tristimulus_2': 0.375872580535276, 'Tristimulus_3': 0.545649719091416, 'HarmonicOddToEvenRatio': 1.55359376773475, 'Inharmonicity': 0.096271184919293, 'HarmonicEnergy': 0.0136912304680307, 'NoiseEnergy': 0.0129354341375336, 'Noisiness': 0.464518212827659, 'HarmonicToNoiseEnergy': 1.10189147689818, 'PartialsToNoiseEnergy': 1.15276830834486, 'F1_Hz': 965.355185, 'F2_Hz': 1566.595113, 'F3_HZ': 3081.040174, 'F4_Hz': 3536.460589, 'Rate': 0.628706661, 'Depth': 0.031815235, 'Regularity': 0.095774789}, {'Unnamed: 0': 0, 'names': 'bellou_a_1', 'singer_id': 0, 'Pitch': 294.792755848602, 'SpectralCentroid': 1988.70548799565, 'SpectralSpread': 1236.07658212378, 'SpectralSkewness': 0.667606950418554, 'SpectralKurtosis': 2.23089609708891, 'SpectralFlatness': 6.13002798571896e-05, 'SpectralCrest': 0.166798680989045, 'SpectralSlope': 8.35676790222799e-08, 'SpectralDecrease': 0.0345231147320676, 'SpectralRollOff': 3619.18975289899, 'SpectralVariation': 0.633051436428841, 'SpectralFlux': 0.0021260109600433, 'HarmonicSpectralDeviation': 0.0050759970417123, 'Tristimulus_1': 0.0668331273198761, 'Tristimulus_2': 0.375872580535276, 'Tristimulus_3': 0.545649719091416, 'HarmonicOddToEvenRatio': 1.55359376773475, 'Inharmonicity': 0.096271184919293, 'HarmonicEnergy': 0.0136912304680307, 'NoiseEnergy': 0.0129354341375336, 'Noisiness': 0.464518212827659, 'HarmonicToNoiseEnergy': 1.10189147689818, 'PartialsToNoiseEnergy': 1.15276830834486, 'F1_Hz': 965.355185, 'F2_Hz': 1566.595113, 'F3_HZ': 3081.040174, 'F4_Hz': 3536.460589, 'Rate': 0.628706661, 'Depth': 0.031815235, 'Regularity': 0.095774789}, {'Unnamed: 0': 0, 'names': 'bellou_a_1', 'singer_id': 0, 'Pitch': 294.792755848602, 'SpectralCentroid': 1988.70548799565, 'SpectralSpread': 1236.07658212378, 'SpectralSkewness': 0.667606950418554, 'SpectralKurtosis': 2.23089609708891, 'SpectralFlatness': 6.13002798571896e-05, 'SpectralCrest': 0.166798680989045, 'SpectralSlope': 8.35676790222799e-08, 'SpectralDecrease': 0.0345231147320676, 'SpectralRollOff': 3619.18975289899, 'SpectralVariation': 0.633051436428841, 'SpectralFlux': 0.0021260109600433, 'HarmonicSpectralDeviation': 0.0050759970417123, 'Tristimulus_1': 0.0668331273198761, 'Tristimulus_2': 0.375872580535276, 'Tristimulus_3': 0.545649719091416, 'HarmonicOddToEvenRatio': 1.55359376773475, 'Inharmonicity': 0.096271184919293, 'HarmonicEnergy': 0.0136912304680307, 'NoiseEnergy': 0.0129354341375336, 'Noisiness': 0.464518212827659, 'HarmonicToNoiseEnergy': 1.10189147689818, 'PartialsToNoiseEnergy': 1.15276830834486, 'F1_Hz': 965.355185, 'F2_Hz': 1566.595113, 'F3_HZ': 3081.040174, 'F4_Hz': 3536.460589, 'Rate': 0.628706661, 'Depth': 0.031815235, 'Regularity': 0.095774789}, {'Unnamed: 0': 0, 'names': 'bellou_a_1', 'singer_id': 0, 'Pitch': 294.792755848602, 'SpectralCentroid': 1988.70548799565, 'SpectralSpread': 1236.07658212378, 'SpectralSkewness': 0.667606950418554, 'SpectralKurtosis': 2.23089609708891, 'SpectralFlatness': 6.13002798571896e-05, 'SpectralCrest': 0.166798680989045, 'SpectralSlope': 8.35676790222799e-08, 'SpectralDecrease': 0.0345231147320676, 'SpectralRollOff': 3619.18975289899, 'SpectralVariation': 0.633051436428841, 'SpectralFlux': 0.0021260109600433, 'HarmonicSpectralDeviation': 0.0050759970417123, 'Tristimulus_1': 0.0668331273198761, 'Tristimulus_2': 0.375872580535276, 'Tristimulus_3': 0.545649719091416, 'HarmonicOddToEvenRatio': 1.55359376773475, 'Inharmonicity': 0.096271184919293, 'HarmonicEnergy': 0.0136912304680307, 'NoiseEnergy': 0.0129354341375336, 'Noisiness': 0.464518212827659, 'HarmonicToNoiseEnergy': 1.10189147689818, 'PartialsToNoiseEnergy': 1.15276830834486, 'F1_Hz': 965.355185, 'F2_Hz': 1566.595113, 'F3_HZ': 3081.040174, 'F4_Hz': 3536.460589, 'Rate': 0.628706661, 'Depth': 0.031815235, 'Regularity': 0.095774789}, {'Unnamed: 0': 0, 'names': 'bellou_a_1', 'singer_id': 0, 'Pitch': 294.792755848602, 'SpectralCentroid': 1988.70548799565, 'SpectralSpread': 1236.07658212378, 'SpectralSkewness': 0.667606950418554, 'SpectralKurtosis': 2.23089609708891, 'SpectralFlatness': 6.13002798571896e-05, 'SpectralCrest': 0.166798680989045, 'SpectralSlope': 8.35676790222799e-08, 'SpectralDecrease': 0.0345231147320676, 'SpectralRollOff': 3619.18975289899, 'SpectralVariation': 0.633051436428841, 'SpectralFlux': 0.0021260109600433, 'HarmonicSpectralDeviation': 0.0050759970417123, 'Tristimulus_1': 0.0668331273198761, 'Tristimulus_2': 0.375872580535276, 'Tristimulus_3': 0.545649719091416, 'HarmonicOddToEvenRatio': 1.55359376773475, 'Inharmonicity': 0.096271184919293, 'HarmonicEnergy': 0.0136912304680307, 'NoiseEnergy': 0.0129354341375336, 'Noisiness': 0.464518212827659, 'HarmonicToNoiseEnergy': 1.10189147689818, 'PartialsToNoiseEnergy': 1.15276830834486, 'F1_Hz': 965.355185, 'F2_Hz': 1566.595113, 'F3_HZ': 3081.040174, 'F4_Hz': 3536.460589, 'Rate': 0.628706661, 'Depth': 0.031815235, 'Regularity': 0.095774789}]\n"
     ]
    }
   ],
   "source": [
    "b = next(iter(dataloader))"
   ]
  },
  {
   "cell_type": "code",
   "execution_count": 17,
   "metadata": {},
   "outputs": [
    {
     "name": "stdout",
     "output_type": "stream",
     "text": [
      "8\n",
      "8\n",
      "8\n"
     ]
    }
   ],
   "source": [
    "print(len(b[0]['input_values']))\n",
    "print(len(b[0]['attention_mask']))\n",
    "print(len(b[1]))"
   ]
  }
 ],
 "metadata": {
  "kernelspec": {
   "display_name": "torchaudio",
   "language": "python",
   "name": "python3"
  },
  "language_info": {
   "codemirror_mode": {
    "name": "ipython",
    "version": 3
   },
   "file_extension": ".py",
   "mimetype": "text/x-python",
   "name": "python",
   "nbconvert_exporter": "python",
   "pygments_lexer": "ipython3",
   "version": "3.12.1"
  }
 },
 "nbformat": 4,
 "nbformat_minor": 2
}
