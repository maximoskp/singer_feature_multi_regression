{
 "cells": [
  {
   "cell_type": "code",
   "execution_count": 1,
   "metadata": {},
   "outputs": [],
   "source": [
    "from multitask_dataset import SingerMultiTaskDataset\n",
    "from torch.utils.data import DataLoader\n",
    "from torch.optim import Adam\n",
    "from models import HuBERTMultiHead\n",
    "import pandas as pd\n",
    "\n",
    "# import torch\n",
    "# torch.autograd.detect_anomaly(True)"
   ]
  },
  {
   "cell_type": "code",
   "execution_count": 2,
   "metadata": {},
   "outputs": [],
   "source": [
    "train_audio_folder = '/media/maximos/9C33-6BBD/data/melos_singers/Rebetika_vowels/train/'\n",
    "csv_path = '/media/maximos/9C33-6BBD/data/melos_singers/features/multitask_targets.csv'"
   ]
  },
  {
   "cell_type": "code",
   "execution_count": 3,
   "metadata": {},
   "outputs": [
    {
     "name": "stdout",
     "output_type": "stream",
     "text": [
      "['Unnamed: 0', 'names', 'singer_id', 'Pitch', 'SpectralCentroid', 'SpectralSpread', 'SpectralSkewness', 'SpectralKurtosis', 'SpectralFlatness', 'SpectralCrest', 'SpectralSlope', 'SpectralDecrease', 'SpectralRollOff', 'SpectralVariation', 'SpectralFlux', 'HarmonicSpectralDeviation', 'Tristimulus_1', 'Tristimulus_2', 'Tristimulus_3', 'HarmonicOddToEvenRatio', 'Inharmonicity', 'HarmonicEnergy', 'NoiseEnergy', 'Noisiness', 'HarmonicToNoiseEnergy', 'PartialsToNoiseEnergy', 'F1_Hz', 'F2_Hz', 'F3_HZ', 'F4_Hz', 'Rate', 'Depth', 'Regularity']\n",
      "['singer_id', 'Pitch', 'SpectralCentroid', 'SpectralSpread', 'SpectralSkewness', 'SpectralKurtosis', 'SpectralFlatness', 'SpectralCrest', 'SpectralSlope', 'SpectralDecrease', 'SpectralRollOff', 'SpectralVariation', 'SpectralFlux', 'HarmonicSpectralDeviation', 'Tristimulus_1', 'Tristimulus_2', 'Tristimulus_3', 'HarmonicOddToEvenRatio', 'Inharmonicity', 'HarmonicEnergy', 'NoiseEnergy', 'Noisiness', 'HarmonicToNoiseEnergy', 'PartialsToNoiseEnergy', 'F1_Hz', 'F2_Hz', 'F3_HZ', 'F4_Hz', 'Rate', 'Depth', 'Regularity']\n"
     ]
    }
   ],
   "source": [
    "feats = pd.read_csv(csv_path, delimiter=',')\n",
    "features_list = list(feats.columns)\n",
    "print(features_list)\n",
    "del(features_list[:2])\n",
    "print(features_list)"
   ]
  },
  {
   "cell_type": "code",
   "execution_count": 4,
   "metadata": {},
   "outputs": [
    {
     "name": "stdout",
     "output_type": "stream",
     "text": [
      "{'Pitch': 1, 'SpectralCentroid': 1, 'SpectralSpread': 1, 'SpectralSkewness': 1, 'SpectralKurtosis': 1, 'SpectralFlatness': 1, 'SpectralCrest': 1, 'SpectralSlope': 1, 'SpectralDecrease': 1, 'SpectralRollOff': 1, 'SpectralVariation': 1, 'SpectralFlux': 1, 'HarmonicSpectralDeviation': 1, 'Tristimulus_1': 1, 'Tristimulus_2': 1, 'Tristimulus_3': 1, 'HarmonicOddToEvenRatio': 1, 'Inharmonicity': 1, 'HarmonicEnergy': 1, 'NoiseEnergy': 1, 'Noisiness': 1, 'HarmonicToNoiseEnergy': 1, 'PartialsToNoiseEnergy': 1, 'F1_Hz': 1, 'F2_Hz': 1, 'F3_HZ': 1, 'F4_Hz': 1, 'singer_id': 6}\n"
     ]
    }
   ],
   "source": [
    "task_labels_num_out = {}\n",
    "for i in range(1, len(features_list)-3, 1):\n",
    "    task_labels_num_out[features_list[i]] = 1\n",
    "# add singer identification\n",
    "task_labels_num_out['singer_id'] = feats['singer_id'].max()+1 # accounting for zero\n",
    "print(task_labels_num_out)"
   ]
  },
  {
   "cell_type": "code",
   "execution_count": 5,
   "metadata": {},
   "outputs": [
    {
     "name": "stderr",
     "output_type": "stream",
     "text": [
      "You are using a model of type hubert to instantiate a model of type wav2vec2. This is not supported for all configurations of models and can yield errors.\n",
      "Some weights of Wav2Vec2Model were not initialized from the model checkpoint at facebook/hubert-base-ls960 and are newly initialized: ['encoder.pos_conv_embed.conv.parametrizations.weight.original0', 'encoder.pos_conv_embed.conv.parametrizations.weight.original1']\n",
      "You should probably TRAIN this model on a down-stream task to be able to use it for predictions and inference.\n"
     ]
    }
   ],
   "source": [
    "model = HuBERTMultiHead(task_labels_num_out=task_labels_num_out)"
   ]
  },
  {
   "cell_type": "code",
   "execution_count": 6,
   "metadata": {},
   "outputs": [],
   "source": [
    "training_data = SingerMultiTaskDataset(train_audio_folder, csv_path)"
   ]
  },
  {
   "cell_type": "code",
   "execution_count": 7,
   "metadata": {},
   "outputs": [
    {
     "name": "stdout",
     "output_type": "stream",
     "text": [
      "336\n"
     ]
    }
   ],
   "source": [
    "print(len(training_data))"
   ]
  },
  {
   "cell_type": "code",
   "execution_count": 8,
   "metadata": {},
   "outputs": [
    {
     "name": "stdout",
     "output_type": "stream",
     "text": [
      "{'input_values': array([ 9.6231786e-05, -4.8065151e-04, -1.0562916e-03, ...,\n",
      "        2.1723036e-02,  3.0537494e-02,  3.0633982e-02], dtype=float32), 'labels': {'Unnamed: 0': 235, 'names': 'keti_grei_e_7', 'singer_id': 3, 'Pitch': 0.7209138518538807, 'SpectralCentroid': 0.5698297871797114, 'SpectralSpread': 0.5059747324580315, 'SpectralSkewness': 0.40996711878204867, 'SpectralKurtosis': 0.17471883980858025, 'SpectralFlatness': 2.1642168877359462e-07, 'SpectralCrest': 0.19977750826511775, 'SpectralSlope': 0.5214147424361909, 'SpectralDecrease': 0.02280188370441561, 'SpectralRollOff': 0.21781613652017218, 'SpectralVariation': 0.9633068641347643, 'SpectralFlux': 0.10157637350694174, 'HarmonicSpectralDeviation': 0.35987722172305736, 'Tristimulus_1': 0.29529396714096523, 'Tristimulus_2': 0.6616446652813145, 'Tristimulus_3': 0.16561083301404245, 'HarmonicOddToEvenRatio': 0.003796548057622091, 'Inharmonicity': 0.10887323108745597, 'HarmonicEnergy': 0.24651267309414998, 'NoiseEnergy': 0.46923335822616397, 'Noisiness': 0.26238568091428155, 'HarmonicToNoiseEnergy': 0.6828751877722434, 'PartialsToNoiseEnergy': 0.6207574506131437, 'F1_Hz': 0.2788254179042032, 'F2_Hz': 0.4526311503932239, 'F3_HZ': 0.7718286846479764, 'F4_Hz': 0.4274739784823321, 'Rate': 0.0329175523047791, 'Depth': 0.009512933177325027, 'Regularity': 0.5086305976543023}}\n"
     ]
    }
   ],
   "source": [
    "print(training_data[235])"
   ]
  },
  {
   "cell_type": "code",
   "execution_count": 9,
   "metadata": {},
   "outputs": [],
   "source": [
    "dataloader = DataLoader(training_data, batch_size=8, shuffle=True, collate_fn=model.collate_fn)"
   ]
  },
  {
   "cell_type": "code",
   "execution_count": 10,
   "metadata": {},
   "outputs": [
    {
     "name": "stdout",
     "output_type": "stream",
     "text": [
      "{'dataset': <multitask_dataset.SingerMultiTaskDataset object at 0x742144559580>, 'num_workers': 0, 'prefetch_factor': None, 'pin_memory': False, 'pin_memory_device': '', 'timeout': 0, 'worker_init_fn': None, '_DataLoader__multiprocessing_context': None, '_dataset_kind': 0, 'batch_size': 8, 'drop_last': False, 'sampler': <torch.utils.data.sampler.RandomSampler object at 0x74213c208bf0>, 'batch_sampler': <torch.utils.data.sampler.BatchSampler object at 0x7420c90e84a0>, 'generator': None, 'collate_fn': <bound method HuBERTMultiHead.collate_fn of HuBERTMultiHead(\n",
      "  (feature_extractor): Wav2Vec2FeatureEncoder(\n",
      "    (conv_layers): ModuleList(\n",
      "      (0): Wav2Vec2GroupNormConvLayer(\n",
      "        (conv): Conv1d(1, 512, kernel_size=(10,), stride=(5,), bias=False)\n",
      "        (activation): GELUActivation()\n",
      "        (layer_norm): GroupNorm(512, 512, eps=1e-05, affine=True)\n",
      "      )\n",
      "      (1-4): 4 x Wav2Vec2NoLayerNormConvLayer(\n",
      "        (conv): Conv1d(512, 512, kernel_size=(3,), stride=(2,), bias=False)\n",
      "        (activation): GELUActivation()\n",
      "      )\n",
      "      (5-6): 2 x Wav2Vec2NoLayerNormConvLayer(\n",
      "        (conv): Conv1d(512, 512, kernel_size=(2,), stride=(2,), bias=False)\n",
      "        (activation): GELUActivation()\n",
      "      )\n",
      "    )\n",
      "  )\n",
      "  (feature_projection): Wav2Vec2FeatureProjection(\n",
      "    (layer_norm): LayerNorm((512,), eps=1e-05, elementwise_affine=True)\n",
      "    (projection): Linear(in_features=512, out_features=768, bias=True)\n",
      "    (dropout): Dropout(p=0.0, inplace=False)\n",
      "  )\n",
      "  (encoder): Wav2Vec2Encoder(\n",
      "    (pos_conv_embed): Wav2Vec2PositionalConvEmbedding(\n",
      "      (conv): ParametrizedConv1d(\n",
      "        768, 768, kernel_size=(128,), stride=(1,), padding=(64,), groups=16\n",
      "        (parametrizations): ModuleDict(\n",
      "          (weight): ParametrizationList(\n",
      "            (0): _WeightNorm()\n",
      "          )\n",
      "        )\n",
      "      )\n",
      "      (padding): Wav2Vec2SamePadLayer()\n",
      "      (activation): GELUActivation()\n",
      "    )\n",
      "    (layer_norm): LayerNorm((768,), eps=1e-05, elementwise_affine=True)\n",
      "    (dropout): Dropout(p=0.1, inplace=False)\n",
      "    (layers): ModuleList(\n",
      "      (0-11): 12 x Wav2Vec2EncoderLayer(\n",
      "        (attention): Wav2Vec2Attention(\n",
      "          (k_proj): Linear(in_features=768, out_features=768, bias=True)\n",
      "          (v_proj): Linear(in_features=768, out_features=768, bias=True)\n",
      "          (q_proj): Linear(in_features=768, out_features=768, bias=True)\n",
      "          (out_proj): Linear(in_features=768, out_features=768, bias=True)\n",
      "        )\n",
      "        (dropout): Dropout(p=0.1, inplace=False)\n",
      "        (layer_norm): LayerNorm((768,), eps=1e-05, elementwise_affine=True)\n",
      "        (feed_forward): Wav2Vec2FeedForward(\n",
      "          (intermediate_dropout): Dropout(p=0.1, inplace=False)\n",
      "          (intermediate_dense): Linear(in_features=768, out_features=3072, bias=True)\n",
      "          (intermediate_act_fn): GELUActivation()\n",
      "          (output_dense): Linear(in_features=3072, out_features=768, bias=True)\n",
      "          (output_dropout): Dropout(p=0.1, inplace=False)\n",
      "        )\n",
      "        (final_layer_norm): LayerNorm((768,), eps=1e-05, elementwise_affine=True)\n",
      "      )\n",
      "    )\n",
      "  )\n",
      "  (hubert): Wav2Vec2Model(\n",
      "    (feature_extractor): Wav2Vec2FeatureEncoder(\n",
      "      (conv_layers): ModuleList(\n",
      "        (0): Wav2Vec2GroupNormConvLayer(\n",
      "          (conv): Conv1d(1, 512, kernel_size=(10,), stride=(5,), bias=False)\n",
      "          (activation): GELUActivation()\n",
      "          (layer_norm): GroupNorm(512, 512, eps=1e-05, affine=True)\n",
      "        )\n",
      "        (1-4): 4 x Wav2Vec2NoLayerNormConvLayer(\n",
      "          (conv): Conv1d(512, 512, kernel_size=(3,), stride=(2,), bias=False)\n",
      "          (activation): GELUActivation()\n",
      "        )\n",
      "        (5-6): 2 x Wav2Vec2NoLayerNormConvLayer(\n",
      "          (conv): Conv1d(512, 512, kernel_size=(2,), stride=(2,), bias=False)\n",
      "          (activation): GELUActivation()\n",
      "        )\n",
      "      )\n",
      "    )\n",
      "    (feature_projection): Wav2Vec2FeatureProjection(\n",
      "      (layer_norm): LayerNorm((512,), eps=1e-05, elementwise_affine=True)\n",
      "      (projection): Linear(in_features=512, out_features=768, bias=True)\n",
      "      (dropout): Dropout(p=0.1, inplace=False)\n",
      "    )\n",
      "    (encoder): Wav2Vec2Encoder(\n",
      "      (pos_conv_embed): Wav2Vec2PositionalConvEmbedding(\n",
      "        (conv): ParametrizedConv1d(\n",
      "          768, 768, kernel_size=(128,), stride=(1,), padding=(64,), groups=16\n",
      "          (parametrizations): ModuleDict(\n",
      "            (weight): ParametrizationList(\n",
      "              (0): _WeightNorm()\n",
      "            )\n",
      "          )\n",
      "        )\n",
      "        (padding): Wav2Vec2SamePadLayer()\n",
      "        (activation): GELUActivation()\n",
      "      )\n",
      "      (layer_norm): LayerNorm((768,), eps=1e-05, elementwise_affine=True)\n",
      "      (dropout): Dropout(p=0.1, inplace=False)\n",
      "      (layers): ModuleList(\n",
      "        (0-11): 12 x Wav2Vec2EncoderLayer(\n",
      "          (attention): Wav2Vec2Attention(\n",
      "            (k_proj): Linear(in_features=768, out_features=768, bias=True)\n",
      "            (v_proj): Linear(in_features=768, out_features=768, bias=True)\n",
      "            (q_proj): Linear(in_features=768, out_features=768, bias=True)\n",
      "            (out_proj): Linear(in_features=768, out_features=768, bias=True)\n",
      "          )\n",
      "          (dropout): Dropout(p=0.1, inplace=False)\n",
      "          (layer_norm): LayerNorm((768,), eps=1e-05, elementwise_affine=True)\n",
      "          (feed_forward): Wav2Vec2FeedForward(\n",
      "            (intermediate_dropout): Dropout(p=0.1, inplace=False)\n",
      "            (intermediate_dense): Linear(in_features=768, out_features=3072, bias=True)\n",
      "            (intermediate_act_fn): GELUActivation()\n",
      "            (output_dense): Linear(in_features=3072, out_features=768, bias=True)\n",
      "            (output_dropout): Dropout(p=0.1, inplace=False)\n",
      "          )\n",
      "          (final_layer_norm): LayerNorm((768,), eps=1e-05, elementwise_affine=True)\n",
      "        )\n",
      "      )\n",
      "    )\n",
      "  )\n",
      "  (relu): ReLU()\n",
      "  (softmax): Softmax(dim=None)\n",
      "  (sigmoid): Sigmoid()\n",
      ")>, 'persistent_workers': False, '_DataLoader__initialized': True, '_IterableDataset_len_called': None, '_iterator': None}\n"
     ]
    }
   ],
   "source": [
    "print(dataloader.__dict__)"
   ]
  },
  {
   "cell_type": "code",
   "execution_count": 11,
   "metadata": {},
   "outputs": [],
   "source": [
    "b = next(iter(dataloader))"
   ]
  },
  {
   "cell_type": "code",
   "execution_count": 12,
   "metadata": {},
   "outputs": [
    {
     "name": "stdout",
     "output_type": "stream",
     "text": [
      "8\n",
      "8\n",
      "33\n",
      "{'Unnamed: 0': [114, 117, 2, 133, 286, 213, 254, 106], 'names': ['kazantzidis_i_5', 'kazantzidis_i_8', 'bellou_a_3', 'kazantzidis_old_a_9', 'ninou_u_3', 'keti_grei_a_12', 'keti_grei_u_7', 'kazantzidis_i_12'], 'singer_id': [2, 2, 0, 2, 4, 3, 3, 2], 'Pitch': [0.39692045289014205, 0.0626757632559464, 0.21904812775121937, 0.2441134872026566, 0.22345971504630882, 0.35831408163231426, 0.4961932795789526, 0.3198237253521693], 'SpectralCentroid': [0.5956305636719355, 0.5797184008174251, 0.560793287984073, 0.43236903248499314, 0.0748293342222268, 0.3789232577511787, 0.23530275669125422, 0.9028203593469135], 'SpectralSpread': [0.5557710901311825, 0.6525194978577975, 0.5687656186835492, 0.4657550754144305, 0.12657206931787549, 0.41745796307360317, 0.4450094724239343, 0.7948371011643081], 'SpectralSkewness': [0.19785289228703504, 0.26317222060875595, 0.3782914699514791, 0.44745988216438537, 0.5707278917530184, 0.4410572889383226, 0.6882963479499091, 0.2680919880332829], 'SpectralKurtosis': [0.06128271275723712, 0.07132841705153826, 0.10163235571665884, 0.20429357690978084, 0.4716480764195309, 0.15653167956714528, 0.4554125172759005, 0.09338620023703266], 'SpectralFlatness': [5.985775450927455e-08, 3.24202849719081e-06, 0.06960107956054248, 5.328737800222441e-05, 9.680766619493961e-05, 0.0016258286976370679, 0.0004912028649515246, 7.763506281779031e-06], 'SpectralCrest': [0.20699746589284318, 0.09120104549787768, 0.12523684599652463, 0.09790459794018047, 0.28935760426153323, 0.18452912118890283, 0.45913067832429044, 0.07508649407529774], 'SpectralSlope': [0.5447718460918224, 0.47644216662841216, 0.4300548816490444, 0.4991187306074902, 0.5037677451757733, 0.4514359809936281, 0.4091227975583352, 0.49049053106012214], 'SpectralDecrease': [0.02506828911683672, 0.03270985874031331, 0.12106042620241758, 0.041777021770438766, 0.25645406735067755, 0.09251099683347518, 0.20727871830445332, 0.030220749147884307], 'SpectralRollOff': [0.26329903862930304, 0.4093667026404998, 0.4400882471606489, 0.2832319965457682, 0.13488034227156695, 0.34916203255975, 0.4136921474219942, 0.5807711538277734], 'SpectralVariation': [0.7821993244713308, 0.5127230218179989, 0.8307457401535002, 0.7453704185393693, 0.45382030764911635, 0.8275779576390104, 0.9012375375670959, 0.7883115641279178], 'SpectralFlux': [0.0943956812779804, 0.03210501318515416, 0.1857322711343173, 0.11185000586291527, 0.37982322891709785, 0.1688847015969739, 0.4110846661993807, 0.0807546001323232], 'HarmonicSpectralDeviation': [0.11784191609542695, 0.03672689792458479, 0.1955837363061833, 0.1735787573343372, 0.31454132326107415, 0.25327848245453877, 0.23111351132648134, 0.10863815324784884], 'Tristimulus_1': [0.621747302604282, 0.06515269183338272, 0.06891287360268505, 0.08999200604251548, 0.3771860327622975, 0.27167593862093464, 0.6126212282114174, 0.24786870740431444], 'Tristimulus_2': [0.20150316567567778, 0.49561524773325055, 0.3266375891383014, 0.5185835256902146, 0.6644625704141512, 0.555777476553273, 0.4378146895779529, 0.08496694650183866], 'Tristimulus_3': [0.24274710804092403, 0.4518383038257725, 0.7295132464965022, 0.5218149768496417, 0.12062394836294582, 0.2664240305171719, 0.051760727760396016, 0.8064951323792255], 'HarmonicOddToEvenRatio': [0.07934761280372415, 0.010655024367468404, 0.013210870958619217, 0.02426536275660847, 0.009105480938798777, 0.06996781022700774, 0.154281694616794, 0.016262696015472804], 'Inharmonicity': [0.3645736620958759, 0.4283071421618749, 0.286004931399865, 0.4195443496681021, 0.13035309136521042, 0.28467925133847494, 0.09003280013105693, 0.32520717336648636], 'HarmonicEnergy': [0.19885180710535547, 0.016976729697359725, 0.4017621456795438, 0.22532364544373243, 0.38250461978774625, 0.26374845806605307, 0.46590722304057514, 0.20351732613006426], 'NoiseEnergy': [0.39818502506828224, 0.08303135243257101, 0.41673303553208685, 0.4220737353194694, 0.35285831557911096, 0.4997804859842701, 0.534844704119584, 0.2662537270568177], 'Noisiness': [0.4014311851684556, 0.23631334312859445, 0.06818603103679734, 0.22142429338867506, 0.03492704778977317, 0.3285081102267535, 0.16539080588535612, 0.1626140423514787], 'HarmonicToNoiseEnergy': [0.41041428804307717, 0.4795272840119736, 0.8605728704065192, 0.31926932489599014, 0.9569190564208696, 0.35781005954757433, 0.6904117689906695, 0.5672118054486022], 'PartialsToNoiseEnergy': [0.46471842042572825, 0.6529726034568263, 0.888355531982779, 0.6718396305668867, 0.9414794113646632, 0.5434220735719844, 0.7460749774908139, 0.749892171540118], 'F1_Hz': [0.10733114030193319, 0.11891913163099779, 0.37096650188452324, 0.2523758503356856, 0.31167156165705234, 0.30353665488171033, 0.1578943065666324, 0.9131644708134604], 'F2_Hz': [0.5773690780690177, 0.6364108614355048, 0.4092551401161603, 0.3690465869834543, 0.31768685178310524, 0.3324217070680574, 0.16662041060533225, 0.8143329519061817], 'F3_HZ': [0.5642800644655671, 0.7253590777994997, 0.7622081111087992, 0.4170635281190876, 0.8420484297353151, 0.7238307411086824, 0.46971754284319306, 0.9187393533401249], 'F4_Hz': [0.27905808504086327, 0.14905552688310789, 0.56453906582468, 0.30219153099332413, 0.5225055126364736, 0.5000141340614433, 0.34378589608894794, 1.0], 'Rate': [0.008560725402982866, 0.0, 0.1722787783958011, 0.4135609011639647, 0.17660005673928936, 0.1811271102058307, 0.0861694029357298, 0.030045146083043612], 'Depth': [0.010933383591442296, 0.2293628095902645, 0.005004758066200357, 0.033569157933990595, 0.0005632014005574133, 0.009265221118744053, 0.009176034288520577, 0.026852411954504666], 'Regularity': [0.5104013190488315, 0.34750836228589405, 0.469298477504202, 0.06659017324608457, 0.1227618194887368, 0.06948642017556365, 0.3490805648714001, 0.07745846503408114]}\n"
     ]
    }
   ],
   "source": [
    "print(len(b[0]['input_values']))\n",
    "print(len(b[0]['attention_mask']))\n",
    "print(len(b[1]))\n",
    "print(b[1])"
   ]
  },
  {
   "cell_type": "code",
   "execution_count": 13,
   "metadata": {},
   "outputs": [],
   "source": [
    "model.train()\n",
    "optimizer = Adam(model.parameters())"
   ]
  },
  {
   "cell_type": "code",
   "execution_count": 14,
   "metadata": {},
   "outputs": [
    {
     "name": "stdout",
     "output_type": "stream",
     "text": [
      "Parameter containing:\n",
      "tensor([[ 0.0764, -0.0356,  0.0319,  ...,  0.0229,  0.0379, -0.0324],\n",
      "        [-0.0147,  0.0039, -0.0659,  ...,  0.0499,  0.0458, -0.0392],\n",
      "        [ 0.1157,  0.0316,  0.0097,  ..., -0.1181, -0.0043, -0.0881],\n",
      "        ...,\n",
      "        [-0.0829, -0.0190, -0.0334,  ..., -0.1305, -0.0136,  0.0721],\n",
      "        [ 0.0076, -0.1277, -0.0363,  ..., -0.0170,  0.0036, -0.0242],\n",
      "        [-0.0481, -0.0188, -0.0242,  ...,  0.0573, -0.0350,  0.0071]],\n",
      "       device='cuda:0', dtype=torch.float16, requires_grad=True)\n"
     ]
    }
   ],
   "source": [
    "print(model.hubert.encoder.layers[0].attention.k_proj.weight)"
   ]
  },
  {
   "cell_type": "code",
   "execution_count": 15,
   "metadata": {},
   "outputs": [
    {
     "data": {
      "text/plain": [
       "[array([1, 1, 1, ..., 0, 0, 0], dtype=int32),\n",
       " array([1, 1, 1, ..., 0, 0, 0], dtype=int32),\n",
       " array([1, 1, 1, ..., 0, 0, 0], dtype=int32),\n",
       " array([1, 1, 1, ..., 0, 0, 0], dtype=int32),\n",
       " array([1, 1, 1, ..., 0, 0, 0], dtype=int32),\n",
       " array([1, 1, 1, ..., 0, 0, 0], dtype=int32),\n",
       " array([1, 1, 1, ..., 1, 1, 1], dtype=int32),\n",
       " array([1, 1, 1, ..., 0, 0, 0], dtype=int32)]"
      ]
     },
     "execution_count": 15,
     "metadata": {},
     "output_type": "execute_result"
    }
   ],
   "source": [
    "b[0]['attention_mask']"
   ]
  },
  {
   "cell_type": "code",
   "execution_count": 16,
   "metadata": {},
   "outputs": [
    {
     "name": "stdout",
     "output_type": "stream",
     "text": [
      "task_name:  Pitch\n",
      "tensor([0.3970, 0.0627, 0.2190, 0.2441, 0.2235, 0.3584, 0.4961, 0.3198],\n",
      "       device='cuda:0', dtype=torch.float16)\n",
      "tensor([0.9980, 0.3689, 0.0444, 0.9990, 0.9980, 0.5581, 0.9976, 0.6943],\n",
      "       device='cuda:0', dtype=torch.float16, grad_fn=<SqueezeBackward0>)\n",
      "loss 0:  tensor(0.2607, device='cuda:0', dtype=torch.float16,\n",
      "       grad_fn=<MseLossBackward0>)\n"
     ]
    }
   ],
   "source": [
    "y = model(\n",
    "    audio_normalized=b[0]['input_values'],\n",
    "    attention_mask=b[0]['attention_mask'],\n",
    "    labels=b[1],\n",
    "    output_attentions=False,\n",
    "    output_hidden_states=False,\n",
    "    return_dict=True\n",
    ")"
   ]
  },
  {
   "cell_type": "code",
   "execution_count": 17,
   "metadata": {},
   "outputs": [
    {
     "name": "stdout",
     "output_type": "stream",
     "text": [
      "SequenceClassifierOutput(loss=tensor(0.2607, device='cuda:0', dtype=torch.float16,\n",
      "       grad_fn=<MseLossBackward0>), logits=tensor([[0.9980],\n",
      "        [0.3689],\n",
      "        [0.0444],\n",
      "        [0.9990],\n",
      "        [0.9980],\n",
      "        [0.5581],\n",
      "        [0.9976],\n",
      "        [0.6943]], device='cuda:0', dtype=torch.float16,\n",
      "       grad_fn=<SigmoidBackward0>), hidden_states=tensor([[[ 0.1004, -0.3003,  0.1274,  ..., -0.2177, -0.0836,  1.0762],\n",
      "         [ 0.3643, -0.6777,  0.0834,  ..., -0.3359, -0.0428,  1.0273],\n",
      "         [ 0.1174, -0.4790,  0.1021,  ..., -0.1317,  0.1111,  1.1299],\n",
      "         ...,\n",
      "         [ 0.0166,  0.2343, -0.3572,  ..., -0.2710, -0.1511, -0.1639],\n",
      "         [ 0.0454, -0.0725, -0.3977,  ..., -0.4651, -0.2917, -0.4336],\n",
      "         [ 0.1163,  0.2458, -0.4246,  ..., -0.3918, -0.0404, -0.6367]],\n",
      "\n",
      "        [[ 0.2688, -0.0598,  0.0507,  ..., -0.0206,  0.0519,  1.5430],\n",
      "         [ 0.1919, -0.0804, -0.1019,  ...,  0.0634,  0.1296,  0.9790],\n",
      "         [ 0.3528, -0.0920, -0.1510,  ..., -0.0350,  0.0256,  1.3252],\n",
      "         ...,\n",
      "         [ 0.1010,  0.1901, -0.1010,  ..., -0.0544, -0.1796,  0.2357],\n",
      "         [ 0.1576,  0.3652, -0.1299,  ..., -0.3945,  0.0855, -0.1232],\n",
      "         [-0.0831, -0.0091,  0.0331,  ..., -0.2581,  0.1187, -0.2676]],\n",
      "\n",
      "        [[ 0.2050, -0.1663,  0.4602,  ...,  0.0125, -0.0052,  1.9531],\n",
      "         [ 0.0967, -0.0048,  0.3381,  ...,  0.0648,  0.1888,  2.4316],\n",
      "         [-0.1127, -0.0292, -0.0121,  ...,  0.0540,  0.0272,  2.1250],\n",
      "         ...,\n",
      "         [ 0.3271,  0.2793, -0.1902,  ..., -0.1858, -0.1842,  0.0806],\n",
      "         [ 0.1763,  0.4294, -0.0617,  ..., -0.2690, -0.2527,  0.0754],\n",
      "         [ 0.0618,  0.1720, -0.2847,  ..., -0.3535, -0.0668, -0.4136]],\n",
      "\n",
      "        ...,\n",
      "\n",
      "        [[ 0.1378,  0.0944,  0.4316,  ...,  0.1283,  0.1367,  1.2578],\n",
      "         [ 0.2144, -0.2057,  0.4670,  ...,  0.4585,  0.2222,  1.7783],\n",
      "         [-0.0981, -0.3389,  0.3904,  ...,  0.0177,  0.1978,  1.4268],\n",
      "         ...,\n",
      "         [ 0.1355,  0.1394, -0.3767,  ..., -0.1473, -0.4434,  0.3064],\n",
      "         [ 0.0323,  0.1975, -0.1696,  ..., -0.3091, -0.2847, -0.2296],\n",
      "         [-0.0255,  0.3403, -0.1479,  ..., -0.1094, -0.1046, -0.1427]],\n",
      "\n",
      "        [[ 0.0086,  0.1353,  0.3660,  ...,  0.4639,  0.2698,  0.5605],\n",
      "         [-0.0985, -0.0189,  0.3975,  ...,  0.3423,  0.2915,  0.7300],\n",
      "         [ 0.0057,  0.1771,  0.3271,  ...,  0.1345,  0.2283,  0.3953],\n",
      "         ...,\n",
      "         [ 0.1172,  0.0472,  0.2472,  ..., -0.1392,  0.2194, -1.0918],\n",
      "         [ 0.1471,  0.1501,  0.0541,  ..., -0.1266,  0.2847, -0.9712],\n",
      "         [ 0.1312,  0.4824,  0.3308,  ..., -0.2303,  0.3616, -0.7969]],\n",
      "\n",
      "        [[ 0.1276, -0.3735,  0.3459,  ...,  0.0959,  0.3164,  1.7900],\n",
      "         [ 0.1569, -0.1241,  0.5054,  ...,  0.1196,  0.2607,  1.5400],\n",
      "         [ 0.0850, -0.1947,  0.3677,  ..., -0.0103,  0.2081,  1.4463],\n",
      "         ...,\n",
      "         [ 0.0754,  0.3752, -0.2764,  ..., -0.0886, -0.2496,  0.0639],\n",
      "         [ 0.2164, -0.0182, -0.0418,  ..., -0.2289,  0.1770, -0.2067],\n",
      "         [ 0.1180,  0.1813, -0.3889,  ..., -0.3508, -0.0706, -0.0748]]],\n",
      "       device='cuda:0', dtype=torch.float16, grad_fn=<NativeLayerNormBackward0>), attentions=None)\n"
     ]
    }
   ],
   "source": [
    "print(y)"
   ]
  },
  {
   "cell_type": "code",
   "execution_count": 18,
   "metadata": {},
   "outputs": [],
   "source": [
    "optimizer.zero_grad()\n",
    "y.loss.backward()# retain_graph=True\n",
    "optimizer.step()"
   ]
  },
  {
   "cell_type": "code",
   "execution_count": 38,
   "metadata": {},
   "outputs": [
    {
     "data": {
      "text/plain": [
       "tensor([[-1.3603e-02, -1.1650e-02, -2.2030e-03,  ..., -1.9150e-03,\n",
       "         -1.5335e-03, -8.0933e-02],\n",
       "        [ 0.0000e+00,  0.0000e+00,  0.0000e+00,  ...,  0.0000e+00,\n",
       "          0.0000e+00,  0.0000e+00],\n",
       "        [ 6.3837e-05,  2.2686e-04,  6.9666e-04,  ...,  0.0000e+00,\n",
       "          1.2094e-04,  3.5439e-03],\n",
       "        ...,\n",
       "        [ 1.9028e-02,  1.6449e-02,  2.7561e-03,  ...,  2.7275e-03,\n",
       "          2.1343e-03,  1.1176e-01],\n",
       "        [ 5.8929e-02,  5.0446e-02,  9.5291e-03,  ...,  8.2855e-03,\n",
       "          6.6452e-03,  3.5034e-01],\n",
       "        [ 5.3131e-02,  4.5502e-02,  8.5983e-03,  ...,  7.4730e-03,\n",
       "          5.9891e-03,  3.1592e-01]], device='cuda:0', dtype=torch.float16)"
      ]
     },
     "execution_count": 38,
     "metadata": {},
     "output_type": "execute_result"
    }
   ],
   "source": [
    "model.projectors['Pitch'].weight.grad"
   ]
  },
  {
   "cell_type": "code",
   "execution_count": 44,
   "metadata": {},
   "outputs": [
    {
     "name": "stdout",
     "output_type": "stream",
     "text": [
      "Parameter containing:\n",
      "tensor([0.2285,   -inf,    inf, 0.2190,    nan,   -inf, 0.4187, 0.7261,   -inf,\n",
      "          -inf,    nan, 0.2480,    nan, 0.7188,   -inf,    inf, 0.4805, 0.2067,\n",
      "           nan,    inf,    nan,    inf,    nan,    inf,   -inf,   -inf,   -inf,\n",
      "           inf,    inf, 0.2324,   -inf,   -inf, 0.2808, 0.2074,    nan, 0.2744,\n",
      "          -inf, 0.6509,   -inf, 0.2573,    inf, 0.2151, 0.1991, 0.3291,   -inf,\n",
      "           nan,   -inf,   -inf,    nan, 0.2323, 0.1743, 0.2756,   -inf, 0.2712,\n",
      "           nan, 0.2502,    inf, 0.2969,    inf,   -inf,    inf,    inf,   -inf,\n",
      "           inf, 0.2585, 0.1826,    inf, 0.6992, 0.2211, 0.2751,    nan,   -inf,\n",
      "        0.6831,    inf, 0.4600,   -inf, 0.2278,    inf,    nan, 0.2216,    nan,\n",
      "           inf, 0.2339,   -inf,   -inf,   -inf,   -inf, 0.3628, 0.2344, 0.4543,\n",
      "        0.2007, 0.1808,   -inf,   -inf, 0.7349,   -inf,    inf, 0.2468, 0.2367,\n",
      "           nan, 0.2107,   -inf,   -inf,   -inf,    nan,    inf, 0.2832,    nan,\n",
      "          -inf, 0.4080,   -inf, 0.2966,    nan, 0.2450, 0.5752,    inf,    inf,\n",
      "          -inf,    nan,    nan, 0.2422, 0.2291, 0.6333,    inf,    inf,    inf,\n",
      "           inf,   -inf,    nan,   -inf,    inf, 0.2197,   -inf, 0.2520, 0.4500,\n",
      "        0.5713,   -inf, 0.2251,   -inf,   -inf, 0.2017,   -inf, 0.2267, 0.2507,\n",
      "           nan, 0.3408, 0.2440,   -inf,    inf, 0.2524,   -inf, 0.2292, 0.2439,\n",
      "          -inf,   -inf,    nan,   -inf,    inf, 0.4880,    inf,    nan, 0.5718,\n",
      "           inf,    nan,    inf,    nan,   -inf,    inf,    inf,    nan,    nan,\n",
      "        0.2761,    nan,    inf,   -inf,   -inf,    inf, 0.2961, 0.1978, 0.2327,\n",
      "          -inf,   -inf,   -inf,    inf, 0.2629,   -inf,    nan, 0.2151, 0.2493,\n",
      "           inf,   -inf,    inf, 0.6533,    inf, 0.2074,   -inf,    inf,   -inf,\n",
      "        0.2473, 0.2257,    nan, 0.1997,   -inf,    nan,   -inf,   -inf, 0.2393,\n",
      "        0.1902,   -inf,    nan,    inf,   -inf, 0.1875,    nan, 0.4124, 0.7251,\n",
      "        0.1912,    nan,   -inf, 0.6621,   -inf, 0.3123, 0.1854,   -inf,    nan,\n",
      "        0.2159,    inf, 0.2019,    inf,    nan, 0.6411, 0.3826, 0.2064,    inf,\n",
      "        0.2181, 0.7461,   -inf,    inf, 0.2551,    inf,   -inf, 0.1958, 0.1866,\n",
      "        0.2310, 0.5610,    inf, 0.2024,    inf, 0.3127,   -inf, 0.2090,   -inf,\n",
      "           inf, 0.2180,    inf,    inf,    inf,   -inf,    inf, 0.2273,   -inf,\n",
      "        0.1676,   -inf,    inf, 0.2344,    inf,    inf, 0.2365,    nan, 0.7002,\n",
      "           inf, 0.2454,   -inf, 0.2944, 0.2457, 0.2471,    nan, 0.7090, 0.2161,\n",
      "          -inf,    nan,    inf, 0.1855,    nan, 0.9180,   -inf,   -inf,    nan,\n",
      "           nan, 0.2302,   -inf,   -inf,    inf,    inf,    nan,    nan, 0.2839,\n",
      "           nan,    inf, 0.2224,    inf, 0.2776, 0.4790,    inf, 0.2708,    inf,\n",
      "          -inf,   -inf,   -inf,    inf,   -inf, 0.2512,   -inf,    inf,    nan,\n",
      "        0.5244, 0.7104,   -inf, 0.1932,   -inf,    inf,    inf,    inf, 0.1930,\n",
      "           nan,   -inf,    inf,   -inf,    inf, 0.7339,    inf,    inf, 0.5591,\n",
      "           inf,    inf, 0.3394, 0.2434, 0.6445, 0.4771, 0.2059, 0.2142,    inf,\n",
      "        0.1360, 0.2239, 0.5264, 0.6050, 0.2219,    inf,    inf,   -inf,   -inf,\n",
      "        0.2369,    inf,   -inf,   -inf,    inf,    nan,    inf, 0.1953,    nan,\n",
      "          -inf,    nan, 0.2754,    inf, 0.2357,    inf, 0.2489, 0.1979,   -inf,\n",
      "           nan,   -inf,    inf,   -inf,   -inf,    inf,    nan, 0.2632, 0.2391,\n",
      "          -inf,    inf,   -inf, 0.2141,   -inf, 0.2773, 0.2529,    inf,   -inf,\n",
      "           inf,   -inf,    nan, 0.1493, 0.5781,    inf, 0.1982, 0.8623, 0.2438,\n",
      "           nan, 0.2051, 0.3223, 0.4468, 0.4128, 0.2466,    inf,   -inf,   -inf,\n",
      "          -inf,    inf,    inf,    nan,    inf,    inf,   -inf, 0.2263,    inf,\n",
      "          -inf,   -inf,    nan, 0.5483,    nan,    nan, 0.2368, 0.2681,   -inf,\n",
      "        0.2864,    nan, 0.2061,   -inf,    inf, 0.2147, 0.2725, 0.2207,    inf,\n",
      "           nan,    nan,   -inf,    nan,   -inf,    nan, 0.2808,    inf, 0.3789,\n",
      "          -inf,    inf,   -inf,   -inf,    inf,   -inf, 0.2419,    inf,   -inf,\n",
      "           inf, 0.2028,    inf,    inf,    inf,   -inf,    nan, 0.8140, 0.1859,\n",
      "           nan,    inf,   -inf,    inf,    inf, 0.2041, 0.1866,   -inf, 0.2969,\n",
      "           inf,    inf, 0.2065,    nan,    inf,   -inf,    nan,   -inf, 0.1986,\n",
      "           inf, 0.2139,    nan, 0.6167, 0.2842, 0.7368,    inf,    inf,    inf,\n",
      "        0.3689,   -inf, 0.2754,   -inf, 0.2659, 0.2507,   -inf,   -inf,    inf,\n",
      "        0.2722, 0.1960, 0.6021,    inf, 0.1992, 0.3267, 0.2229,   -inf, 0.2396,\n",
      "        0.2493, 0.5117, 0.2468,    inf,    inf,    inf, 0.7671,   -inf,   -inf,\n",
      "        0.2358, 0.2893,   -inf, 0.2167, 0.3215,    inf,   -inf,    inf,    nan,\n",
      "           inf,    inf, 0.7573,    inf, 0.1786,   -inf, 0.2732,    nan,    inf,\n",
      "        0.2717, 0.7427,   -inf,   -inf,    inf,    nan,    inf,   -inf,   -inf,\n",
      "           inf, 0.2700,    nan,   -inf,    inf,    inf, 0.3484, 0.3152, 0.8149,\n",
      "          -inf,    inf,   -inf, 0.2268,   -inf,   -inf,    inf, 0.2695,    inf,\n",
      "          -inf, 0.2375,   -inf,   -inf, 0.3142,   -inf, 0.2172, 0.2284,   -inf,\n",
      "           nan,   -inf,   -inf, 0.2585,   -inf,    inf,    inf, 0.4141, 0.5376,\n",
      "        0.2418, 0.6431,    inf, 0.2372, 0.1914, 0.2297, 0.2524,    nan, 0.2454,\n",
      "          -inf,   -inf, 0.1962, 0.3323,    inf, 0.3306,   -inf,   -inf,    nan,\n",
      "          -inf,    nan, 0.2433, 0.2169,    nan,   -inf, 0.3704, 0.4575, 0.2247,\n",
      "        0.2396, 0.2460,    nan, 0.2012,    inf,   -inf,    inf, 0.2494, 0.2225,\n",
      "           inf,   -inf,    inf,    inf, 0.2097,    nan,   -inf, 0.2681, 0.2507,\n",
      "           nan, 0.2502,    inf,   -inf,    inf,    inf,    nan,   -inf,    inf,\n",
      "           nan, 0.2228,    inf,    nan,    inf,    inf, 0.2278, 0.3362, 0.2058,\n",
      "           inf,   -inf, 0.2402,    inf,    inf, 0.2332,    inf,   -inf,   -inf,\n",
      "           inf,    inf,    nan, 0.2644, 0.2455,    inf, 0.1748,    nan,    inf,\n",
      "           inf,    inf,   -inf,   -inf,    nan,   -inf,    nan,   -inf,    nan,\n",
      "           inf, 0.2457,    inf,    inf,   -inf,    inf,    inf,    inf,    nan,\n",
      "        0.4246,    nan,    inf, 0.2612,    inf, 0.2389, 0.2056, 0.6343,    inf,\n",
      "           nan,    nan,   -inf,    inf,    nan, 0.2301, 0.2120, 0.2311, 0.2581,\n",
      "          -inf,   -inf,   -inf, 0.2766,    nan,    nan, 0.6167,    inf,    nan,\n",
      "          -inf,    nan,    inf, 0.2551, 0.1998, 0.3853,   -inf,    inf, 0.2335,\n",
      "          -inf,    inf, 0.2971,    inf,   -inf,    inf,   -inf, 0.2671, 0.1971,\n",
      "        0.3110,    nan,    nan, 0.2639,    nan, 0.2131,   -inf,    nan,   -inf,\n",
      "           inf,    nan,    inf, 0.2976, 0.5117,    inf,   -inf, 0.4224, 0.2168,\n",
      "           nan,    nan,    inf,   -inf,    inf,    nan, 0.2825,   -inf,    nan,\n",
      "          -inf,   -inf,    inf, 0.2086,    nan,    nan,    inf,   -inf, 0.2114,\n",
      "           inf,    nan,    inf,    nan,    inf, 0.3809, 0.2166,    nan,    inf,\n",
      "           inf,   -inf, 0.6406], device='cuda:0', dtype=torch.float16,\n",
      "       requires_grad=True)\n"
     ]
    }
   ],
   "source": [
    "print(model.hubert.encoder.layers[11].final_layer_norm.weight)"
   ]
  },
  {
   "cell_type": "code",
   "execution_count": 19,
   "metadata": {},
   "outputs": [
    {
     "name": "stdout",
     "output_type": "stream",
     "text": [
      "12\n"
     ]
    }
   ],
   "source": [
    "print(len(model.hubert.encoder.layers))"
   ]
  },
  {
   "cell_type": "code",
   "execution_count": 24,
   "metadata": {},
   "outputs": [
    {
     "name": "stdout",
     "output_type": "stream",
     "text": [
      "Parameter containing:\n",
      "tensor([[inf, inf, inf,  ..., inf, inf, inf],\n",
      "        [inf, inf, inf,  ..., inf, inf, inf],\n",
      "        [-inf, -inf, -inf,  ..., -inf, -inf, -inf],\n",
      "        ...,\n",
      "        [-inf, -inf, -inf,  ..., -inf, -inf, -inf],\n",
      "        [inf, inf, inf,  ..., inf, inf, inf],\n",
      "        [-inf, -inf, -inf,  ..., -inf, -inf, -inf]], device='cuda:0',\n",
      "       dtype=torch.float16, requires_grad=True)\n"
     ]
    }
   ],
   "source": [
    "print(model.hubert.encoder.layers[11].feed_forward.output_dense.weight)\n",
    "# print(model.hubert.encoder.layers[0].attention.k_proj.weight.grad)"
   ]
  }
 ],
 "metadata": {
  "kernelspec": {
   "display_name": "torchaudio",
   "language": "python",
   "name": "python3"
  },
  "language_info": {
   "codemirror_mode": {
    "name": "ipython",
    "version": 3
   },
   "file_extension": ".py",
   "mimetype": "text/x-python",
   "name": "python",
   "nbconvert_exporter": "python",
   "pygments_lexer": "ipython3",
   "version": "3.12.1"
  }
 },
 "nbformat": 4,
 "nbformat_minor": 2
}
